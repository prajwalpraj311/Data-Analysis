{
 "cells": [
  {
   "cell_type": "markdown",
   "id": "86c1f9e2",
   "metadata": {},
   "source": [
    "# To send personalized table as attachment to ADM vendors"
   ]
  },
  {
   "cell_type": "markdown",
   "id": "264ac171",
   "metadata": {
    "jp-MarkdownHeadingCollapsed": true
   },
   "source": [
    "### SOP for using this notebook to send personalized table from a dump file as attachment to ADM vendors\n",
    "1. Go to https://myaccount.google.com/apppasswords and create new app profile & password associated with your personal flipkart account. Ensure you have 2 step authorization with your flipkart account.\n",
    "2. The password has to be updated in Step 5 along with your email ID\n",
    "3. The updated Vendor list along with their email IDs has to be stored in an .xlsx file locally & the path to the file has to be updated in Step 2.\n",
    "4. The respective vendor files will be processed in a local folder for processing. The folder path has to be updated in Step 4.\n",
    "5. The file has to be executed in the order mentioned in this file from Step 1 to Step 5.\n",
    "6. The file contains paths used during testing. Please update before using."
   ]
  },
  {
   "cell_type": "markdown",
   "id": "267773a3",
   "metadata": {},
   "source": [
    "## 1. Install necessary packages in python"
   ]
  },
  {
   "cell_type": "code",
   "execution_count": 1,
   "id": "f261e258",
   "metadata": {},
   "outputs": [
    {
     "name": "stderr",
     "output_type": "stream",
     "text": [
      "C:\\Users\\prajwal.d1\\AppData\\Local\\Temp\\ipykernel_12900\\1044736199.py:16: DeprecationWarning: 'imghdr' is deprecated and slated for removal in Python 3.13\n",
      "  import imghdr\n"
     ]
    }
   ],
   "source": [
    "# Install packages\n",
    "import pandas as pd\n",
    "from matplotlib import pyplot as plt\n",
    "import numpy as np\n",
    "import datetime\n",
    "from datetime import datetime\n",
    "from datetime import timedelta\n",
    "import pandas as pd\n",
    "import seaborn as sns\n",
    "import requests\n",
    "import os\n",
    "from pathlib import Path\n",
    "\n",
    "#for sending mail\n",
    "import smtplib\n",
    "import imghdr\n",
    "from email.message import EmailMessage\n",
    "from email.mime.multipart import MIMEMultipart\n",
    "from email.mime.text import MIMEText\n",
    "from email.mime.base import MIMEBase\n",
    "from email import encoders\n",
    "import glob"
   ]
  },
  {
   "cell_type": "markdown",
   "id": "4ab21a8a",
   "metadata": {},
   "source": [
    "## 2. Read Vendor names & their email IDs from local excel file"
   ]
  },
  {
   "cell_type": "code",
   "execution_count": 3,
   "id": "c0ed19d7",
   "metadata": {},
   "outputs": [],
   "source": [
    "# Reading a BGV dump database\n",
    "FwdDump = pd.read_excel(r'C:\\\\Users\\\\prajwal.d1\\\\Desktop\\\\Pendency\\\\Cron_Data_19A.xlsx', dtype=str)"
   ]
  },
  {
   "cell_type": "code",
   "execution_count": 4,
   "id": "c9ebcd92",
   "metadata": {},
   "outputs": [],
   "source": [
    "# Reading a database of vendors & email ids\n",
    "VendorContact = pd.read_excel(r'C:\\\\Users\\\\prajwal.d1\\\\Desktop\\\\Pendency\\\\Vendor_Mail.xlsx', dtype=str)"
   ]
  },
  {
   "cell_type": "code",
   "execution_count": 5,
   "id": "08790018",
   "metadata": {},
   "outputs": [],
   "source": [
    "VendorNames = VendorContact[\"Vendor Name\"].tolist()\n",
    "VendorMail = VendorContact[\"Vendor Mail\"].tolist()"
   ]
  },
  {
   "cell_type": "markdown",
   "id": "341b09b9",
   "metadata": {},
   "source": [
    "## 3. Creating file directory & clear old data"
   ]
  },
  {
   "cell_type": "code",
   "execution_count": 6,
   "id": "a961e194",
   "metadata": {},
   "outputs": [],
   "source": [
    "# Create a folder and update path here\n",
    "DownloadPath = \"C:\\\\Users\\\\prajwal.d1\\\\Desktop\\\\Pendency\\\\Pendency_All\""
   ]
  },
  {
   "cell_type": "code",
   "execution_count": 7,
   "id": "60c7a795",
   "metadata": {},
   "outputs": [],
   "source": [
    "# Remove all files in the specified folder\n",
    "os.chdir(f\"{DownloadPath}\")\n",
    "all_files = os.listdir()\n",
    "\n",
    "for f in all_files:\n",
    "    os.remove(f)"
   ]
  },
  {
   "cell_type": "markdown",
   "id": "248a1a31",
   "metadata": {},
   "source": [
    "## 4. Processing data for respective vendors"
   ]
  },
  {
   "cell_type": "code",
   "execution_count": 8,
   "id": "502d4ad9",
   "metadata": {},
   "outputs": [],
   "source": [
    "# Create separate files for vendors\n",
    "attachment_filename_fwd = []\n",
    "\n",
    "for x in range(len(VendorNames)):\n",
    "    VendorData_Fwd = FwdDump.loc[FwdDump['Vendor Name'] == VendorNames[x]]\n",
    "    VendorData_Fwd.to_excel(Path(f\"C:\\\\Users\\\\prajwal.d1\\\\Desktop\\\\Pendency\\\\Pendency_All\\\\{VendorNames[x]}_Pendency.xlsx\"),index=False)\n",
    "    attachment_filename_fwd.append(VendorNames[x]+\"_Pendency.xlsx\")\n"
   ]
  },
  {
   "cell_type": "markdown",
   "id": "173fed12",
   "metadata": {},
   "source": [
    "## 5. Send E-mail to vendor with their respective attachment"
   ]
  },
  {
   "cell_type": "code",
   "execution_count": 9,
   "id": "c5ab535f",
   "metadata": {},
   "outputs": [],
   "source": [
    "# Enter credentials of your account\n",
    "EMAIL_ADDRESS = 'prajwal.d1@flipkart.com'\n",
    "EMAIL_PASSWORD = 'fudclnzrtpnsavab'\n"
   ]
  },
  {
   "cell_type": "code",
   "execution_count": 10,
   "id": "129f4683",
   "metadata": {},
   "outputs": [],
   "source": [
    "for y in range(len(VendorNames)):\n",
    "    msg = EmailMessage()\n",
    "    msg['Subject'] = \"Pendency Data 19th April || -\"+VendorNames[y]\n",
    "    msg['From'] = EMAIL_ADDRESS\n",
    "    msg['To'] = VendorMail[y]\n",
    "    msg.set_content(\"\"\"Dear Partner\n",
    "\n",
    "   Pendency Data\n",
    "    \n",
    "        -> Ensure that all shipments pending for more than 3 days are cleared by EOD.\n",
    "        -> For shipments pending for over 7 days, kindly provide a Root Cause Analysis (RCA) without fail.\n",
    "            \n",
    "\n",
    "      Thanks & Regards,\n",
    "      Prajwal D|| 7975770738\"\"\")\n",
    "    \n",
    "    files1 = [attachment_filename_fwd[y]]\n",
    "    for file in files1:\n",
    "        with open(file,'rb') as f:\n",
    "            file_data1 = f.read()\n",
    "            file_name1 = f.name\n",
    "        msg.add_attachment(file_data1, maintype='application', subtype='octet-stream', filename=file_name1)\n",
    "    with smtplib.SMTP_SSL('smtp.gmail.com', 465) as smtp: \n",
    "        smtp.login(EMAIL_ADDRESS,EMAIL_PASSWORD)\n",
    "        smtp.send_message(msg)    \n"
   ]
  },
  {
   "cell_type": "code",
   "execution_count": 11,
   "id": "b157d417",
   "metadata": {},
   "outputs": [],
   "source": [
    "#FwdDump = pd.read_excel(r'C:\\Users\\prajwal.d1\\Desktop\\Pendency\\cron_data.xlsx', dtype=str)"
   ]
  },
  {
   "cell_type": "code",
   "execution_count": null,
   "id": "72fa7638",
   "metadata": {},
   "outputs": [],
   "source": []
  },
  {
   "cell_type": "code",
   "execution_count": null,
   "id": "c5800f9f",
   "metadata": {},
   "outputs": [],
   "source": []
  },
  {
   "cell_type": "code",
   "execution_count": null,
   "id": "28777034",
   "metadata": {},
   "outputs": [],
   "source": []
  },
  {
   "cell_type": "code",
   "execution_count": null,
   "id": "605686b1-7ecf-42b5-898d-41b0fa47faea",
   "metadata": {},
   "outputs": [],
   "source": []
  },
  {
   "cell_type": "code",
   "execution_count": null,
   "id": "2cf75968-8b58-4211-a5aa-030bfdd636ba",
   "metadata": {},
   "outputs": [],
   "source": []
  },
  {
   "cell_type": "code",
   "execution_count": null,
   "id": "30ce2b69-4d74-4ef5-9781-d00dee0d7f70",
   "metadata": {},
   "outputs": [],
   "source": []
  },
  {
   "cell_type": "code",
   "execution_count": null,
   "id": "07e58974-c94e-45a2-a680-f2106acb99b5",
   "metadata": {},
   "outputs": [],
   "source": []
  },
  {
   "cell_type": "code",
   "execution_count": null,
   "id": "aa165d10-0f9f-4d25-89ab-f06835d8ac36",
   "metadata": {},
   "outputs": [],
   "source": []
  },
  {
   "cell_type": "code",
   "execution_count": null,
   "id": "58d879cb-d145-4ff7-a307-cc6ec692b155",
   "metadata": {},
   "outputs": [],
   "source": []
  },
  {
   "cell_type": "code",
   "execution_count": null,
   "id": "1ae5f530-9fdd-4a06-ae62-09a113cf6a41",
   "metadata": {},
   "outputs": [],
   "source": []
  },
  {
   "cell_type": "code",
   "execution_count": null,
   "id": "c9c6b8ce-f64d-4e7d-9db5-ebd20096f521",
   "metadata": {},
   "outputs": [],
   "source": []
  }
 ],
 "metadata": {
  "kernelspec": {
   "display_name": "Python 3 (ipykernel)",
   "language": "python",
   "name": "python3"
  },
  "language_info": {
   "codemirror_mode": {
    "name": "ipython",
    "version": 3
   },
   "file_extension": ".py",
   "mimetype": "text/x-python",
   "name": "python",
   "nbconvert_exporter": "python",
   "pygments_lexer": "ipython3",
   "version": "3.12.5"
  }
 },
 "nbformat": 4,
 "nbformat_minor": 5
}
