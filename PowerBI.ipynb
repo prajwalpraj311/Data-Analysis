{
 "cells": [
  {
   "cell_type": "code",
   "execution_count": 19,
   "id": "65c14dea-8b62-40dc-9ee0-40e44b888d17",
   "metadata": {},
   "outputs": [],
   "source": [
    "import pandas as pd\n",
    "import numpy as np\n",
    "import datetime as dt"
   ]
  },
  {
   "cell_type": "code",
   "execution_count": 20,
   "id": "2193d51b-3316-4835-a049-39bcfa4e7552",
   "metadata": {},
   "outputs": [],
   "source": [
    "OBD = pd.read_excel(r'C:\\Users\\prajwal.d1\\Desktop\\PythonCheck\\OBDW10.xlsx', engine=\"openpyxl\", sheet_name=\"Sheet1\")\n",
    "CV = pd.read_excel(r'C:\\Users\\prajwal.d1\\Desktop\\PythonCheck\\CVW1510A.xlsx', engine=\"openpyxl\", sheet_name=\"Sheet1\")\n",
    "PRC = pd.read_excel(r'C:\\Users\\prajwal.d1\\Desktop\\PythonCheck\\PRC30MAR.xlsx', engine=\"openpyxl\", sheet_name=\"Hub Wise\") \n",
    "GTNLPendency = pd.read_excel(r'C:\\Users\\prajwal.d1\\Desktop\\PythonCheck\\gtnl_pendency8Apr.xlsx', engine=\"openpyxl\", sheet_name=\"Sheet1\")\n",
    "GTNLCVAdhernce = pd.read_excel(r'C:\\Users\\prajwal.d1\\Desktop\\PythonCheck\\GTNLCV2A8A.xlsx', engine=\"openpyxl\", sheet_name=\"Raw\")\n",
    "Map = pd.read_csv(r'C:\\Users\\prajwal.d1\\Desktop\\PythonCheck\\ODH Model pincode Tracker.csv')\n",
    "Relabel  = pd.read_csv(r'C:\\Users\\prajwal.d1\\Desktop\\PythonCheck\\Relabel.csv')  #Done\n",
    "LogPendency  = pd.read_excel(r'C:\\Users\\prajwal.d1\\Desktop\\PythonCheck\\G_M_Pendency_data 2025-04-11.xlsx', engine=\"openpyxl\", sheet_name=\"Sheet1\")"
   ]
  },
  {
   "cell_type": "code",
   "execution_count": 21,
   "id": "780c4aca-c32a-47ae-b7ec-543b5b1973ee",
   "metadata": {},
   "outputs": [],
   "source": [
    "# Relabel \n",
    "\n",
    "Relabel = Relabel[['Hub_name', 'Vendor Name ', 'relabel', 'OFD']]\n",
    "Relabel = Relabel.dropna(subset=['Vendor Name '])\n",
    "Relabel.to_csv(\"C:/Users/prajwal.d1/Desktop/PythonCheck/Relabel.csv\")\n"
   ]
  },
  {
   "cell_type": "code",
   "execution_count": 22,
   "id": "1971a4a8-950d-4111-bfab-6bf382920b3c",
   "metadata": {},
   "outputs": [],
   "source": [
    "# PRC \n",
    "\n",
    "PRC = PRC[['Vendor Name ', 'Hub Name','Zone','Sum of Final Reco', 'Sum of Non Adherence','Sum of Excess Shipment', 'Grand Total', 'Final Reco Completed %']]\n",
    "PRC.rename(columns={\n",
    "    'Vendor Name ': 'Vendor Name',\n",
    "    'Hub Name': 'Hub Name',\n",
    "    'Zone': 'Zone',\n",
    "    'Sum of Final Reco': 'Final Reco',\n",
    "    'Sum of Non Adherence': 'Non Adherence',\n",
    "    'Sum of Excess Shipment': 'Excess Shipment',\n",
    "    'Grand Total': 'Grand Total',\n",
    "    'Final Reco Completed %': 'Final Reco Completed %'\n",
    "}, inplace=True)\n",
    "PRC = PRC.dropna(subset=['Vendor Name'])\n",
    "PRC.to_csv(\"C:/Users/prajwal.d1/Desktop/PythonCheck/PRC.csv\")\n"
   ]
  },
  {
   "cell_type": "code",
   "execution_count": 23,
   "id": "fd0df2f9-af4b-4ba3-bc10-0cf37006f244",
   "metadata": {},
   "outputs": [],
   "source": [
    "#OBD Done \n",
    "\n",
    "OBD = OBD[['Vendor Name', 'parent_lm_hub', 'Image Adherence', 'tracking_id']]\n",
    "OBD_pivot = pd.pivot_table(\n",
    "    OBD,\n",
    "    values='tracking_id',\n",
    "    index=['Vendor Name', 'parent_lm_hub'],\n",
    "    columns='Image Adherence',\n",
    "    aggfunc='count',\n",
    "    fill_value=0  \n",
    ")\n",
    "OBD_pivot['Grand Total'] = OBD_pivot.sum(axis=1)\n",
    "OBD_pivot['Adherence'] = OBD_pivot['Okay'] / OBD_pivot['Grand Total'] *100\n",
    "OBD_pivot['Adherence'] = OBD_pivot['Adherence'].round(2).astype(str) + '%'\n",
    "OBD_pivot.to_csv(\"C:/Users/prajwal.d1/Desktop/PythonCheck/OBD_pivot.csv\")"
   ]
  },
  {
   "cell_type": "code",
   "execution_count": 24,
   "id": "7a4efe9a-a147-45fc-a441-d46003098cec",
   "metadata": {},
   "outputs": [],
   "source": [
    "#CVDone\n",
    "\n",
    "CV_pivot = pd.pivot_table(\n",
    "    CV,\n",
    "    values='ShipmentId',\n",
    "    index=['Bucket', 'Connected Check', 'Type', 'Date','Vendor Name','CurrentHubName'],\n",
    "    columns='CV Check',\n",
    "    aggfunc='count',\n",
    "    fill_value=0  \n",
    ")\n",
    "CV_pivot['Grand Total'] = CV_pivot.sum(axis=1)\n",
    "CV_pivot.to_csv(\"C:/Users/prajwal.d1/Desktop/PythonCheck/CV_pivot.csv\")"
   ]
  },
  {
   "cell_type": "code",
   "execution_count": 25,
   "id": "f68bff34-e03a-44bf-aa07-a51e36d9534f",
   "metadata": {},
   "outputs": [],
   "source": [
    "#GTNL Pendecy \n",
    "\n",
    "GTNLPendency = GTNLPendency[~GTNLPendency['Status'].isin(['Expected', 'Lost', 'Untraceable_BRSNR'])]\n",
    "\n",
    "\n",
    "GTNL_pivot = pd.pivot_table(\n",
    "    GTNLPendency,\n",
    "    values=['shipment_id', 'return_amount'],\n",
    "    index=['Bucket', 'Age Bucket', 'Vendor Name', 'HubName'],\n",
    "    aggfunc={'shipment_id': 'count', 'return_amount': 'sum'},\n",
    "    fill_value=0\n",
    ")\n",
    "GTNL_pivot.to_csv(\"C:/Users/prajwal.d1/Desktop/PythonCheck/GTNL_pivot.csv\")"
   ]
  },
  {
   "cell_type": "code",
   "execution_count": 26,
   "id": "aaddf928-bba7-479e-a5b2-0341c108a22c",
   "metadata": {},
   "outputs": [],
   "source": [
    "#Log Pendency \n",
    "\n",
    "LogPendency = LogPendency[LogPendency[\"New Remarks\"].isin([\"DH Pendency\"])]\n",
    "LogPendency = pd.pivot_table(\n",
    "    LogPendency,\n",
    "    values=['ShipmentId', ' TotalPrice'],\n",
    "    index=['Bucket', 'Slab', 'New BagStatus','Vendor', 'Mapped hub'],\n",
    "    aggfunc={'ShipmentId': 'count', ' TotalPrice': 'sum'},\n",
    "    fill_value=0\n",
    ")\n",
    "LogPendency.to_csv(\"C:/Users/prajwal.d1/Desktop/PythonCheck/LogPendency.csv\")"
   ]
  },
  {
   "cell_type": "code",
   "execution_count": null,
   "id": "62734e52-ac6e-412e-8a44-bb30e4a5216f",
   "metadata": {},
   "outputs": [],
   "source": [
    "\n",
    "Map = Map[['ODH/MDH Name','Vendor']]\n",
    "Map['Vendor'] = Map['Vendor'].astype(str).str.upper()\n",
    "Map['ODH/MDH Name'] = Map['ODH/MDH Name'].astype(str).str.upper()\n"
   ]
  },
  {
   "cell_type": "code",
   "execution_count": null,
   "id": "2d966f66-6fd7-4050-95cd-93b3199d49fc",
   "metadata": {},
   "outputs": [],
   "source": [
    "GTNLCVAdhernce = pd.merge(GTNLCVAdhernce, Map, how=\"left\", left_on=\"DH\", right_on=\"ODH/MDH Name\")\n",
    "GTNLCVAdhernce = GTNLCVAdhernce.dropna(subset = 'Vendor', how = 'all')\n",
    "GTNLCVAdhernce"
   ]
  },
  {
   "cell_type": "code",
   "execution_count": null,
   "id": "d826a4b6-5c96-416b-972e-210622165a59",
   "metadata": {},
   "outputs": [],
   "source": [
    "GTNLCVAdhernce = GTNLCVAdhernce[~GTNLCVAdhernce['Latest Status'].isin(['Delivery_Update', 'Error','InScan_Success','Out_For_Delivery','Untraceable_BRSNR',''])]\n",
    "GTNLCVAdhernce = GTNLCVAdhernce[~GTNLCVAdhernce['rtostageattributed'].isin(['RTO - AT MH/TC OR INTRANSIT', 'RTO - AT PPMH',''])]\n",
    "GTNLCVAdhernce = GTNLCVAdhernce[~GTNLCVAdhernce['rtostageattributed'].isin(['Non-Serviceable',''])]\n"
   ]
  },
  {
   "cell_type": "code",
   "execution_count": 27,
   "id": "615b678a-0f5d-4dbf-88bc-75edef83aa97",
   "metadata": {},
   "outputs": [],
   "source": [
    "#GTNL CV \n",
    "\n",
    "GTNLCVAdhernce=GTNLCVAdhernce [['Vendor Name','DH','CV Done ','tracking_id']]\n",
    "GTNLCVAdhernce = pd.pivot_table(\n",
    "    GTNLCVAdhernce,                      # source DataFrame\n",
    "    values=['tracking_id'],             # column to aggregate\n",
    "    index=['Vendor Name', 'DH'],        # group by these columns\n",
    "    columns=['CV Done '],               # separate columns by 'CV Done ' status\n",
    "    aggfunc={'tracking_id': 'count'},   # count number of tracking_ids\n",
    "    fill_value=0                        # fill empty cells with 0\n",
    ")\n",
    "\n",
    "GTNLCVAdhernce.to_csv(\"C:/Users/prajwal.d1/Desktop/PythonCheck/GTNLCVAdhernce.csv\")\n"
   ]
  },
  {
   "cell_type": "code",
   "execution_count": 28,
   "id": "344fb177-441f-4240-9c1d-a9da2beaf10c",
   "metadata": {},
   "outputs": [],
   "source": [
    "# MERGE ALL \n",
    "\n",
    "Relabel = pd.read_csv(r'C:\\Users\\prajwal.d1\\Desktop\\PythonCheck\\Relabel.csv', dtype=str)\n",
    "PRC = pd.read_csv(r'C:\\Users\\prajwal.d1\\Desktop\\PythonCheck\\PRC.csv', dtype=str)\n",
    "OBD_pivot = pd.read_csv(r'C:\\Users\\prajwal.d1\\Desktop\\PythonCheck\\OBD_pivot.csv', dtype=str)\n",
    "CV_pivot = pd.read_csv(r'C:\\Users\\prajwal.d1\\Desktop\\PythonCheck\\CV_pivot.csv', dtype=str)\n",
    "GTNL_pivot = pd.read_csv(r'C:\\Users\\prajwal.d1\\Desktop\\PythonCheck\\GTNL_pivot.csv', dtype=str)\n",
    "LogPendency = pd.read_csv(r'C:\\Users\\prajwal.d1\\Desktop\\PythonCheck\\LogPendency.csv', dtype=str)\n",
    "GTNLCVAdhernce = pd.read_csv(r'C:\\Users\\prajwal.d1\\Desktop\\PythonCheck\\GTNLCVAdhernce.csv', dtype=str)\n"
   ]
  },
  {
   "cell_type": "code",
   "execution_count": 29,
   "id": "eef0d542-b6a0-4fe6-a4f9-3e29bc43fb11",
   "metadata": {},
   "outputs": [],
   "source": [
    "#OutPut File \n",
    "\n",
    "output_file = 'C:/Users/prajwal.d1/Desktop/PythonCheck/PowerBI_OP.xlsx'\n",
    "\n",
    "with pd.ExcelWriter(output_file, engine='xlsxwriter') as writer:\n",
    "    \n",
    "    Relabel.to_excel(writer, sheet_name='Relabel', index=False)\n",
    "    PRC.to_excel(writer, sheet_name='PRC', index=False)\n",
    "    OBD_pivot.to_excel(writer, sheet_name='OBD_pivot', index=False)\n",
    "    CV_pivot.to_excel(writer, sheet_name='CV_pivot', index=False)\n",
    "    GTNL_pivot.to_excel(writer, sheet_name='GTNL_pivot', index=False)\n",
    "    LogPendency.to_excel(writer, sheet_name='LogPendency', index=False)\n",
    "    GTNLCVAdhernce.to_excel(writer, sheet_name='GTNLCVAdhernce', index=False)"
   ]
  },
  {
   "cell_type": "code",
   "execution_count": null,
   "id": "6971bc5b-0ef1-4369-b2ee-06ab405c6bd9",
   "metadata": {},
   "outputs": [],
   "source": []
  },
  {
   "cell_type": "code",
   "execution_count": null,
   "id": "134a8bfb-fbd8-4481-9293-a5f040fb12b8",
   "metadata": {},
   "outputs": [],
   "source": []
  },
  {
   "cell_type": "code",
   "execution_count": null,
   "id": "08ee905c-3004-4705-b1e2-6ee84d52ea22",
   "metadata": {},
   "outputs": [],
   "source": []
  },
  {
   "cell_type": "code",
   "execution_count": null,
   "id": "8f7e7155-83d9-4e80-85ad-a001034683f7",
   "metadata": {},
   "outputs": [],
   "source": []
  },
  {
   "cell_type": "code",
   "execution_count": null,
   "id": "16f92aac-5da5-42d7-b7f2-8d67ea57d806",
   "metadata": {},
   "outputs": [],
   "source": []
  },
  {
   "cell_type": "code",
   "execution_count": null,
   "id": "6e1a90fb-70b7-4ca0-bb4f-940d06798173",
   "metadata": {},
   "outputs": [],
   "source": []
  },
  {
   "cell_type": "code",
   "execution_count": null,
   "id": "3cfcc1cd-9a6f-4f82-9def-44046943150b",
   "metadata": {},
   "outputs": [],
   "source": []
  },
  {
   "cell_type": "code",
   "execution_count": null,
   "id": "90c40912-0ddf-4699-829e-4cd9217fb01e",
   "metadata": {},
   "outputs": [],
   "source": []
  },
  {
   "cell_type": "code",
   "execution_count": null,
   "id": "b76fad71-87bb-438a-9ebf-1bb364de6e12",
   "metadata": {},
   "outputs": [],
   "source": []
  },
  {
   "cell_type": "code",
   "execution_count": null,
   "id": "00203f15-070e-4dd1-90c0-04f658be596b",
   "metadata": {},
   "outputs": [],
   "source": []
  },
  {
   "cell_type": "code",
   "execution_count": null,
   "id": "6cae029d-5c9d-44e6-a8e6-44e14000c384",
   "metadata": {},
   "outputs": [],
   "source": []
  }
 ],
 "metadata": {
  "kernelspec": {
   "display_name": "Python 3 (ipykernel)",
   "language": "python",
   "name": "python3"
  },
  "language_info": {
   "codemirror_mode": {
    "name": "ipython",
    "version": 3
   },
   "file_extension": ".py",
   "mimetype": "text/x-python",
   "name": "python",
   "nbconvert_exporter": "python",
   "pygments_lexer": "ipython3",
   "version": "3.12.5"
  }
 },
 "nbformat": 4,
 "nbformat_minor": 5
}
