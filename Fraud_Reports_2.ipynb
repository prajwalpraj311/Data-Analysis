{
 "cells": [
  {
   "cell_type": "markdown",
   "id": "86c1f9e2",
   "metadata": {},
   "source": [
    "# To send personalized table as attachment to ADM vendors"
   ]
  },
  {
   "cell_type": "markdown",
   "id": "264ac171",
   "metadata": {},
   "source": [
    "### SOP for using this notebook to send personalized table from a dump file as attachment to ADM vendors\n",
    "1. Go to https://myaccount.google.com/apppasswords and create new app profile & password associated with your personal flipkart account. Ensure you have 2 step authorization with your flipkart account.\n",
    "2. The password has to be updated in Step 5 along with your email ID\n",
    "3. The updated Vendor list along with their email IDs has to be stored in an .xlsx file locally & the path to the file has to be updated in Step 2.\n",
    "4. The respective vendor files will be processed in a local folder for processing. The folder path has to be updated in Step 4.\n",
    "5. The file has to be executed in the order mentioned in this file from Step 1 to Step 5.\n",
    "6. The file contains paths used during testing. Please update before using."
   ]
  },
  {
   "cell_type": "markdown",
   "id": "267773a3",
   "metadata": {},
   "source": [
    "## 1. Install necessary packages in python"
   ]
  },
  {
   "cell_type": "code",
   "execution_count": 1,
   "id": "f261e258",
   "metadata": {},
   "outputs": [],
   "source": [
    "# Install packages\n",
    "import pandas as pd\n",
    "from matplotlib import pyplot as plt\n",
    "import numpy as np\n",
    "import datetime\n",
    "from datetime import datetime\n",
    "from datetime import timedelta\n",
    "import pandas as pd\n",
    "import seaborn as sns\n",
    "import requests\n",
    "import os\n",
    "from pathlib import Path\n",
    "\n",
    "#for sending mail\n",
    "import smtplib\n",
    "#import imghdr\n",
    "from email.message import EmailMessage\n",
    "from email.mime.multipart import MIMEMultipart\n",
    "from email.mime.text import MIMEText\n",
    "from email.mime.base import MIMEBase\n",
    "from email import encoders\n",
    "import glob"
   ]
  },
  {
   "cell_type": "markdown",
   "id": "4ab21a8a",
   "metadata": {},
   "source": [
    "## 2. Read Vendor names & their email IDs from local excel file"
   ]
  },
  {
   "cell_type": "code",
   "execution_count": 2,
   "id": "e9a61569-f811-4d22-8fce-25306afb3307",
   "metadata": {
    "scrolled": true
   },
   "outputs": [
    {
     "data": {
      "text/html": [
       "<div>\n",
       "<style scoped>\n",
       "    .dataframe tbody tr th:only-of-type {\n",
       "        vertical-align: middle;\n",
       "    }\n",
       "\n",
       "    .dataframe tbody tr th {\n",
       "        vertical-align: top;\n",
       "    }\n",
       "\n",
       "    .dataframe thead th {\n",
       "        text-align: right;\n",
       "    }\n",
       "</style>\n",
       "<table border=\"1\" class=\"dataframe\">\n",
       "  <thead>\n",
       "    <tr style=\"text-align: right;\">\n",
       "      <th></th>\n",
       "      <th>ODH/MDH Name</th>\n",
       "      <th>Type</th>\n",
       "      <th>Vendor Name</th>\n",
       "      <th>Zone</th>\n",
       "      <th>State</th>\n",
       "    </tr>\n",
       "  </thead>\n",
       "  <tbody>\n",
       "    <tr>\n",
       "      <th>0</th>\n",
       "      <td>SASTHURAVOORODH_THO</td>\n",
       "      <td>ODH</td>\n",
       "      <td>SAS</td>\n",
       "      <td>SOUTH</td>\n",
       "      <td>KERALA</td>\n",
       "    </tr>\n",
       "    <tr>\n",
       "      <th>1</th>\n",
       "      <td>RJSCIMPHALODH_IMP</td>\n",
       "      <td>ODH</td>\n",
       "      <td>RJSC</td>\n",
       "      <td>EAST</td>\n",
       "      <td>MANIPUR</td>\n",
       "    </tr>\n",
       "    <tr>\n",
       "      <th>2</th>\n",
       "      <td>IMPHALSPLITMDH_IMP</td>\n",
       "      <td>MDH in Bin</td>\n",
       "      <td>RJSC</td>\n",
       "      <td>EAST</td>\n",
       "      <td>MANIPUR</td>\n",
       "    </tr>\n",
       "    <tr>\n",
       "      <th>3</th>\n",
       "      <td>ELASTICRUNBHAWANIPURODH_KOL</td>\n",
       "      <td>ODH</td>\n",
       "      <td>ELASTICRUN</td>\n",
       "      <td>EAST</td>\n",
       "      <td>WEST BENGAL</td>\n",
       "    </tr>\n",
       "    <tr>\n",
       "      <th>4</th>\n",
       "      <td>CABTGARIAHATODH_KOL</td>\n",
       "      <td>ODH</td>\n",
       "      <td>LOADSHARE</td>\n",
       "      <td>EAST</td>\n",
       "      <td>WEST BENGAL</td>\n",
       "    </tr>\n",
       "    <tr>\n",
       "      <th>...</th>\n",
       "      <td>...</td>\n",
       "      <td>...</td>\n",
       "      <td>...</td>\n",
       "      <td>...</td>\n",
       "      <td>...</td>\n",
       "    </tr>\n",
       "    <tr>\n",
       "      <th>2393</th>\n",
       "      <td>UCCMDH_SHL</td>\n",
       "      <td>MDH</td>\n",
       "      <td>LIGHTWINGS</td>\n",
       "      <td>EAST</td>\n",
       "      <td>MEGHALAYA</td>\n",
       "    </tr>\n",
       "    <tr>\n",
       "      <th>2394</th>\n",
       "      <td>JHALDAHUB_JAA</td>\n",
       "      <td>ODH</td>\n",
       "      <td>LOADSHARE</td>\n",
       "      <td>EAST</td>\n",
       "      <td>WEST BENGAL</td>\n",
       "    </tr>\n",
       "    <tr>\n",
       "      <th>2395</th>\n",
       "      <td>GANGADRAMDH_KDO</td>\n",
       "      <td>MDH</td>\n",
       "      <td>SHADOWFAX</td>\n",
       "      <td>WEST</td>\n",
       "      <td>GUJARAT</td>\n",
       "    </tr>\n",
       "    <tr>\n",
       "      <th>2396</th>\n",
       "      <td>MAWSYNRAMMDH_SHL</td>\n",
       "      <td>MDH</td>\n",
       "      <td>LIGHTWINGS</td>\n",
       "      <td>EAST</td>\n",
       "      <td>MEGHALAYA</td>\n",
       "    </tr>\n",
       "    <tr>\n",
       "      <th>2397</th>\n",
       "      <td>MAWPATMDH_SHL</td>\n",
       "      <td>MDH</td>\n",
       "      <td>LIGHTWINGS</td>\n",
       "      <td>EAST</td>\n",
       "      <td>MEGHALAYA</td>\n",
       "    </tr>\n",
       "  </tbody>\n",
       "</table>\n",
       "<p>2398 rows × 5 columns</p>\n",
       "</div>"
      ],
      "text/plain": [
       "                     ODH/MDH Name        Type Vendor Name   Zone        State\n",
       "0             SASTHURAVOORODH_THO         ODH         SAS  SOUTH       KERALA\n",
       "1               RJSCIMPHALODH_IMP         ODH        RJSC   EAST      MANIPUR\n",
       "2              IMPHALSPLITMDH_IMP  MDH in Bin        RJSC   EAST      MANIPUR\n",
       "3     ELASTICRUNBHAWANIPURODH_KOL         ODH  ELASTICRUN   EAST  WEST BENGAL\n",
       "4             CABTGARIAHATODH_KOL         ODH   LOADSHARE   EAST  WEST BENGAL\n",
       "...                           ...         ...         ...    ...          ...\n",
       "2393                   UCCMDH_SHL         MDH  LIGHTWINGS   EAST    MEGHALAYA\n",
       "2394                JHALDAHUB_JAA         ODH   LOADSHARE   EAST  WEST BENGAL\n",
       "2395              GANGADRAMDH_KDO         MDH   SHADOWFAX   WEST      GUJARAT\n",
       "2396             MAWSYNRAMMDH_SHL         MDH  LIGHTWINGS   EAST    MEGHALAYA\n",
       "2397                MAWPATMDH_SHL         MDH  LIGHTWINGS   EAST    MEGHALAYA\n",
       "\n",
       "[2398 rows x 5 columns]"
      ]
     },
     "execution_count": 2,
     "metadata": {},
     "output_type": "execute_result"
    }
   ],
   "source": [
    "df = pd.read_csv(r'C:\\\\Users\\\\prajwal.d1\\\\Desktop\\\\Pendency\\\\ODH Model pincode Tracker.csv')\n",
    "df1 = df[['ODH/MDH Name','Type','Vendor','Zone','State']]\n",
    "Map = df1.drop_duplicates()\n",
    "Map.rename(columns={'Vendor':'Vendor Name'},inplace=True)\n",
    "Map['Vendor Name'] = Map['Vendor Name'].astype(str).str.upper()\n",
    "Map['ODH/MDH Name'] = Map['ODH/MDH Name'].astype(str).str.upper()\n",
    "Map"
   ]
  },
  {
   "cell_type": "code",
   "execution_count": 3,
   "id": "e25c2978-ae0e-4680-9029-a10930e418ad",
   "metadata": {},
   "outputs": [],
   "source": [
    "# Read each file separately with explicit file paths\n",
    "OBD_Adh = pd.read_excel(r\"C:\\Users\\prajwal.d1\\Desktop\\Fraud_Data\\OBD_W14.xlsx\") #NM\n",
    "Label = pd.read_excel(r\"C:\\Users\\prajwal.d1\\Desktop\\Fraud_Data\\Relabel_Send22.xlsx\") #NM\n",
    "PRC = pd.read_excel(r\"C:\\Users\\prajwal.d1\\Desktop\\Fraud_Data\\PRC_Send21.xlsx\") #NM\n",
    "PickupAccuracy = pd.read_excel(r'C:\\\\Users\\\\prajwal.d1\\\\Desktop\\\\Fraud_Data\\\\PA15A22A.xlsx', engine=\"openpyxl\", sheet_name=\"Data\")\n",
    "FST = pd.read_excel(r\"C:\\Users\\prajwal.d1\\Desktop\\Fraud_Data\\FST.xlsx\")\n",
    "POD = pd.read_excel(r'C:\\\\Users\\\\prajwal.d1\\\\Desktop\\\\Fraud_Data\\\\POD14A.xlsx', engine=\"openpyxl\", sheet_name=\"EKL View\")\n",
    "ExternalizationRVP = pd.read_excel(r'C:\\\\Users\\\\prajwal.d1\\\\Desktop\\\\Fraud_Data\\\\EXTRVP15A.xlsx', engine=\"openpyxl\", sheet_name=\"Raw\")\n",
    "ExternalizationRTO = pd.read_excel(r'C:\\\\Users\\\\prajwal.d1\\\\Desktop\\\\Fraud_Data\\\\EXTRTO15A.xlsx', engine=\"openpyxl\", sheet_name=\"Raw\")"
   ]
  },
  {
   "cell_type": "code",
   "execution_count": 4,
   "id": "ab9a60c4-6743-48f3-a7a5-563189d0823e",
   "metadata": {},
   "outputs": [
    {
     "data": {
      "text/plain": [
       "Index(['TID ', 'RTO Created Date ', 'Type ', 'Approved claim Amount ',\n",
       "       'reason', 'SPF Payout reason ', 'seller_id', 'seller_display_name',\n",
       "       'Status ', 'Last Updated Date ', 'Ageing ', 'Age Bucket ',\n",
       "       'First Assigned Hub ', 'Hub Name ', 'Mapped Hub ', 'GM ', 'Zone',\n",
       "       'Asset Type ', 'Asset Type New'],\n",
       "      dtype='object')"
      ]
     },
     "execution_count": 4,
     "metadata": {},
     "output_type": "execute_result"
    }
   ],
   "source": [
    "POD.columns"
   ]
  },
  {
   "cell_type": "code",
   "execution_count": 5,
   "id": "e751a80a-e2dd-4367-b2b4-83f0a88d6cea",
   "metadata": {},
   "outputs": [],
   "source": [
    "OBD_Adh['parent_lm_hub'] = OBD_Adh['parent_lm_hub'].astype(str).str.upper()\n",
    "Label['ODH/MDH Name'] = Label['ODH/MDH Name'].astype(str).str.upper()\n",
    "PRC['ODH/MDH Name'] = PRC['ODH/MDH Name'].astype(str).str.upper()\n",
    "PickupAccuracy['Hub name'] = PickupAccuracy['Hub name'].astype(str).str.upper()\n",
    "FST['Hub Name'] = FST['Hub Name'].astype(str).str.upper()\n",
    "POD['HubName'] = POD['Hub Name '].astype(str).str.upper()\n",
    "ExternalizationRVP['dh_name'] = ExternalizationRVP['dh_name'].astype(str).str.upper()\n",
    "ExternalizationRTO['dh_name'] = ExternalizationRTO['dh_name'].astype(str).str.upper()"
   ]
  },
  {
   "cell_type": "code",
   "execution_count": 6,
   "id": "c0ed19d7",
   "metadata": {
    "scrolled": true
   },
   "outputs": [],
   "source": [
    "PickupAccuracy = pd.merge(PickupAccuracy, Map[['ODH/MDH Name','Vendor Name']], how='left', left_on = 'Hub name', right_on = 'ODH/MDH Name')\n",
    "PickupAccuracy=PickupAccuracy.drop_duplicates()\n",
    "PickupAccuracy.drop(columns = ['ODH/MDH Name'],inplace = True)\n",
    "\n",
    "FST = pd.merge(FST, Map[['ODH/MDH Name','Vendor Name']], how='left', left_on = 'Hub Name', right_on = 'ODH/MDH Name')\n",
    "FST=FST.drop_duplicates()\n",
    "FST.drop(columns = ['ODH/MDH Name'],inplace = True)\n",
    "\n",
    "ExternalizationRVP = pd.merge(ExternalizationRVP, Map[['ODH/MDH Name','Vendor Name']], how='left', left_on = 'dh_name', right_on = 'ODH/MDH Name')\n",
    "ExternalizationRVP=ExternalizationRVP.drop_duplicates()\n",
    "ExternalizationRVP.drop(columns = ['ODH/MDH Name'],inplace = True)\n",
    "\n",
    "ExternalizationRTO = pd.merge(ExternalizationRTO, Map[['ODH/MDH Name','Vendor Name']], how='left', left_on = 'dh_name', right_on = 'ODH/MDH Name')\n",
    "ExternalizationRTO=ExternalizationRTO.drop_duplicates()\n",
    "ExternalizationRTO.drop(columns = ['ODH/MDH Name'],inplace = True)\n",
    "\n",
    "POD = pd.merge(POD, Map[['ODH/MDH Name','Vendor Name']], how='left', left_on = 'Hub Name ', right_on = 'ODH/MDH Name')\n",
    "POD=POD.drop_duplicates()\n",
    "POD.drop(columns = ['ODH/MDH Name'],inplace = True)\n",
    "\n"
   ]
  },
  {
   "cell_type": "code",
   "execution_count": 7,
   "id": "c9ebcd92",
   "metadata": {},
   "outputs": [],
   "source": [
    "# Reading a database of vendors & email ids\n",
    "VendorContact = pd.read_excel(r'C:\\\\Users\\\\prajwal.d1\\\\Desktop\\\\Pendency\\\\Vendor_Mail.xlsx', dtype=str)"
   ]
  },
  {
   "cell_type": "code",
   "execution_count": 8,
   "id": "08790018",
   "metadata": {},
   "outputs": [],
   "source": [
    "VendorNames = VendorContact[\"Vendor Name\"].tolist()\n",
    "VendorMail = VendorContact[\"Vendor Mail\"].tolist()"
   ]
  },
  {
   "cell_type": "markdown",
   "id": "341b09b9",
   "metadata": {},
   "source": [
    "## 3. Creating file directory & clear old data"
   ]
  },
  {
   "cell_type": "code",
   "execution_count": 9,
   "id": "a961e194",
   "metadata": {},
   "outputs": [],
   "source": [
    "# Create a folder and update path here\n",
    "DownloadPath = \"C:\\\\Users\\\\prajwal.d1\\\\Desktop\\\\Fraud_Data\\\\Fraud_Reports_Files_2\""
   ]
  },
  {
   "cell_type": "code",
   "execution_count": 10,
   "id": "60c7a795",
   "metadata": {},
   "outputs": [],
   "source": [
    "# Remove all files in the specified folder\n",
    "os.chdir(f\"{DownloadPath}\")\n",
    "all_files = os.listdir()\n",
    "\n",
    "for f in all_files:\n",
    "    os.remove(f)"
   ]
  },
  {
   "cell_type": "markdown",
   "id": "248a1a31",
   "metadata": {},
   "source": [
    "## 4. Processing data for respective vendors"
   ]
  },
  {
   "cell_type": "code",
   "execution_count": 11,
   "id": "8bc81b1c-d392-422c-b2f1-d7625c9a3394",
   "metadata": {},
   "outputs": [
    {
     "data": {
      "text/plain": [
       "Index(['Business Unit', 'id', 'brand', 'product_title', 'vertical',\n",
       "       'is_alpha_seller', 'service_profile', 'seller_id', 'pincode',\n",
       "       'tracking_id', 'prexo_flag', 'order_date', 'status', 'o2o_flag',\n",
       "       'delivered_date_time', 'fulfill_item_unit_deliver_actual_time',\n",
       "       'fulfillment_done_initial_customer_promised_date',\n",
       "       'fulfill_item_unit_expected_delivery_date_internal', 'unit_status',\n",
       "       'unit_latest_status', 'fulfill_item_unit_out_for_delivery_actual_time',\n",
       "       'fwd_fe_profile_id', 'hub_type', 'Vendor Name ', 'hub_name',\n",
       "       'parent_lm_hub', 'hub_zone', 'fe_employee_id', 'fe_line_of_business',\n",
       "       'fe_phone_number', 'fe_name', 'OBD Image validation', 'Not Okay Reason',\n",
       "       'GM Name', 'Type of hub', 'RM Name', 'AM Name', 'State'],\n",
       "      dtype='object')"
      ]
     },
     "execution_count": 11,
     "metadata": {},
     "output_type": "execute_result"
    }
   ],
   "source": [
    "OBD_Adh.columns"
   ]
  },
  {
   "cell_type": "code",
   "execution_count": 12,
   "id": "502d4ad9",
   "metadata": {},
   "outputs": [],
   "source": [
    "# Create separate files for vendors\n",
    "attachment_filename_fwd = []\n",
    "\n",
    "for x in range(len(VendorNames)):\n",
    "    VendorData_OBD_Adh = OBD_Adh.loc[OBD_Adh['Vendor Name '] == VendorNames[x]]\n",
    "    VendorData_Label = Label.loc[Label['Vendor Name'] == VendorNames[x]]\n",
    "    VendorData_PRC = PRC.loc[PRC['Vendor Name'] == VendorNames[x]]\n",
    "    VendorData_PickupAccuracy = PickupAccuracy.loc[PickupAccuracy['Vendor Name'] == VendorNames[x]]\n",
    "    VendorData_FST = FST.loc[FST['Vendor Name'] == VendorNames[x]]\n",
    "    VendorData_POD = POD.loc[POD['Vendor Name'] == VendorNames[x]]\n",
    "    VendorData_ExternalizationRVP = ExternalizationRVP.loc[ExternalizationRVP['Vendor Name'] == VendorNames[x]]\n",
    "    VendorData_ExternalizationRTO = ExternalizationRTO.loc[ExternalizationRTO['Vendor Name'] == VendorNames[x]]\n",
    "\n",
    "    filename=VendorNames[x]+\"_Fraud_Reports.xlsx\"\n",
    "    with pd.ExcelWriter(filename) as writer:\n",
    "        VendorData_OBD_Adh.to_excel(writer, sheet_name='OBD_Adh_W14',index=False)\n",
    "        VendorData_Label.to_excel(writer, sheet_name='Relabel_Generation_23A',index=False)\n",
    "        VendorData_PRC.to_excel(writer, sheet_name='PRC_21A',index=False)\n",
    "        VendorData_PickupAccuracy.to_excel(writer, sheet_name='PickupAccuray_15A22A',index=False)\n",
    "        VendorData_FST.to_excel(writer, sheet_name='FST_Responces',index=False)\n",
    "        VendorData_POD.to_excel(writer, sheet_name='POD_14A',index=False)\n",
    "        VendorData_ExternalizationRVP.to_excel(writer, sheet_name='ExternalizationRVP_15A',index=False)\n",
    "        VendorData_ExternalizationRTO.to_excel(writer, sheet_name='ExternalizationRTO_15A',index=False)\n",
    "        \n",
    "    attachment_filename_fwd.append(VendorNames[x]+\"_Fraud_Reports.xlsx\")\n"
   ]
  },
  {
   "cell_type": "markdown",
   "id": "173fed12",
   "metadata": {},
   "source": [
    "## 5. Send E-mail to vendor with their respective attachment"
   ]
  },
  {
   "cell_type": "code",
   "execution_count": 13,
   "id": "c5ab535f",
   "metadata": {},
   "outputs": [],
   "source": [
    "# Enter credentials of your account\n",
    "EMAIL_ADDRESS = 'prajwal.d1@flipkart.com'\n",
    "EMAIL_PASSWORD = 'yvzokolqwsbyjbqo'"
   ]
  },
  {
   "cell_type": "code",
   "execution_count": 14,
   "id": "1416aedb-3ad7-4255-86b1-b6aaca26ac49",
   "metadata": {},
   "outputs": [],
   "source": [
    "for y in range(len(VendorNames)):\n",
    "    msg = EmailMessage()\n",
    "    msg['Subject'] = \"Fraud Reports – 23 April'25 Part-2 \"+VendorNames[y]\n",
    "    msg['From'] = EMAIL_ADDRESS\n",
    "    msg['To'] = VendorMail[y]\n",
    "    msg.set_content(\"\"\"Dear Partner,\n",
    "\n",
    "    Do find attached the various Fraud Data / OBD-CV Adh reports along with timelines for your reference. \n",
    "    Kindly review the details below and take necessary actions:\n",
    "\n",
    "\n",
    "    1. OBD Non Adh:  \n",
    "    \n",
    "   - OBD Non Adh has been mapped at the TID/FE level. \n",
    "     Kindly review the data and ensure that HI's conduct training sessions for FEs with high non-adherence. \n",
    "     Repeated instances of non-adherence will result in blacklisting.  \n",
    "     \n",
    "\n",
    "    2. Pickup Accuracy:\n",
    "   \n",
    "   - Image accuracy reports at the FE level have been attached. \n",
    "     Please ensure that adherence is driven in cases of non-adherence, as these will be part of the recovery scope if shipments are involved in fraud.  \n",
    "     \n",
    "\n",
    "   3. Externalization Fraud Loss:  \n",
    "   \n",
    "   - There is a rising trend of DNU fraud being externalized. \n",
    "     Please review the TIDs and take necessary action against WMs marking shipments as undeliverable incorrectly.\n",
    "\n",
    "\n",
    "   4. FST/OBD\n",
    "\n",
    "    - If the shipments are falling under OBD and FST, \n",
    "      please check the ODH - FST/OBD Fail Investigations form. \n",
    "     Also, do find the response raw dump.\n",
    "     The Google Form link - https://docs.google.com/forms/d/e/1FAIpQLSfrjou3fLKIhff_dw51B4agH3iyswco6gvV8HL7TpfSi0d41Q/viewform\n",
    "     \n",
    "     \n",
    "     \n",
    "\n",
    "      Actionable Points:\n",
    "          - Review the fraud reports and share your findings.  \n",
    "          - Work on improving CV and OBD Non Adh at the Hub/FE level.\n",
    "          \n",
    "         \n",
    "- NOTE: Issue warning letters to WMs where non-adherence is found in more than five shipments. Continued non-adherence will result in blacklisting from the system.  \n",
    "    \n",
    "Thanks & Regards,\n",
    "Prajwal | \n",
    "7975770738\"\"\")\n",
    "    attachment_filename_fwd=(VendorContact.loc[VendorContact['Vendor Name'] == VendorNames[y],\"Vendor Name\"]+\"_Fraud_Reports.xlsx\").tolist()\n",
    "    files1=[attachment_filename_fwd[0]]\n",
    "    for file in files1:\n",
    "        with open(file,'rb') as f:\n",
    "            file_data1 = f.read()\n",
    "            file_name1 = f.name\n",
    "        msg.add_attachment(file_data1, maintype='application', subtype='octet-stream', filename=file_name1)\n",
    "    #PDF=Temp.loc[Temp['File']=='Gate_pass_Format.pdf',\"File\"].tolist()\n",
    "    #files2 =[PDF[0]]\n",
    "    #for file in files2:\n",
    "     #   with open(file,'rb') as f:\n",
    "      #      file_data2 = f.read()\n",
    "       #     file_name2 = f.name\n",
    "        #msg.add_attachment(file_data2, maintype='application', subtype='octet-stream', filename=file_name2)\n",
    "    # with smtplib.SMTP('smtp.gmail.com', 587, timeout=30) as smtp:\n",
    "     # smtplib.SMTP('smtp.gmail.com', 587, timeout=60) as smtp:\n",
    "    with smtplib.SMTP_SSL('smtp.gmail.com', 465) as smtp: \n",
    "        smtp.login(EMAIL_ADDRESS,EMAIL_PASSWORD)\n",
    "        smtp.send_message(msg)    "
   ]
  },
  {
   "cell_type": "code",
   "execution_count": 15,
   "id": "9bf3be18",
   "metadata": {},
   "outputs": [],
   "source": [
    "#FwdDump.head()"
   ]
  },
  {
   "cell_type": "code",
   "execution_count": null,
   "id": "0a5e1ab2",
   "metadata": {},
   "outputs": [],
   "source": [
    "# Remove all files in the specified folder\n",
    "os.chdir(f\"{DownloadPath}\")\n",
    "all_files = os.listdir()\n",
    "os.getcwd()"
   ]
  },
  {
   "cell_type": "code",
   "execution_count": null,
   "id": "ae9f7832",
   "metadata": {},
   "outputs": [],
   "source": [
    "(VendorContact.loc[VendorContact['Vendor Name'] == VendorNames[y],\"Vendor Name\"]+\"_RTO_RVP_UT_28.xlsx\")"
   ]
  },
  {
   "cell_type": "code",
   "execution_count": null,
   "id": "6579a584-016f-4551-beee-947a52597847",
   "metadata": {},
   "outputs": [],
   "source": [
    "#   10. Relabeling Data : 1st Feb'25 to 03rd Feb'25\n",
    "#       * There is a growing trend where fraudulent transactions are being relabeled as legitimate, which can significantly affect the accuracy of our fraud detection models.\n",
    "#\n",
    "#   11. Externalization Fraud loss - 1stJan'25 to 28thJan'25  \n",
    "#       * There is High trend of DNU fraud is Externalization - Pl go through the TIDs and take action on WM Marking Undeli\n",
    "#\n",
    "#10. Externalization Fraud loss - 1stDec'24 to 31stDec'24  \n",
    "#       * There is High trend of DNU fraud is Externalization - Pl go through the TIDs and take action on WM Marking Undel\n",
    "#11. Externalization Fraud loss - 1stJan'25 to 07thJan'25  \n",
    "#       * There is High trend of DNU fraud is Externalization - Pl go through the TIDs and take action on WM Marking Undel\n"
   ]
  },
  {
   "cell_type": "code",
   "execution_count": null,
   "id": "01e9ab5a-5436-45b6-84d0-97578bb84798",
   "metadata": {},
   "outputs": [],
   "source": []
  },
  {
   "cell_type": "code",
   "execution_count": null,
   "id": "63aa2bc1-7219-4f00-bf14-a5161eac3d69",
   "metadata": {},
   "outputs": [],
   "source": []
  },
  {
   "cell_type": "code",
   "execution_count": null,
   "id": "a0d79aa1-6ae0-4bbc-ab1b-c158e9a1d081",
   "metadata": {},
   "outputs": [],
   "source": []
  },
  {
   "cell_type": "code",
   "execution_count": null,
   "id": "bb3eaca2-c2dd-4e6e-8e43-ced8c6ffb845",
   "metadata": {},
   "outputs": [],
   "source": []
  },
  {
   "cell_type": "code",
   "execution_count": null,
   "id": "9aad4e62-ed1e-49f7-8af4-78541330527b",
   "metadata": {},
   "outputs": [],
   "source": []
  },
  {
   "cell_type": "code",
   "execution_count": null,
   "id": "760819b8-f7a7-46a3-82b7-d7a7cdbdf3d2",
   "metadata": {},
   "outputs": [],
   "source": []
  },
  {
   "cell_type": "code",
   "execution_count": null,
   "id": "04f70b0f-b6f7-4f1a-9084-83e515422254",
   "metadata": {},
   "outputs": [],
   "source": []
  },
  {
   "cell_type": "code",
   "execution_count": null,
   "id": "4370c4d8-d470-4112-96ea-4138d7efc496",
   "metadata": {},
   "outputs": [],
   "source": []
  },
  {
   "cell_type": "code",
   "execution_count": null,
   "id": "67c4bc28-70fb-4053-a757-dc424232b375",
   "metadata": {},
   "outputs": [],
   "source": []
  },
  {
   "cell_type": "code",
   "execution_count": null,
   "id": "7d09bd73-2f32-4dd9-89ba-432ac926cc0d",
   "metadata": {},
   "outputs": [],
   "source": []
  },
  {
   "cell_type": "code",
   "execution_count": null,
   "id": "6ccc0084-ea5b-41d4-ab8b-fabe115daf02",
   "metadata": {},
   "outputs": [],
   "source": []
  },
  {
   "cell_type": "code",
   "execution_count": null,
   "id": "bc0a256a-27ed-42a2-b4d6-47f6125a4093",
   "metadata": {},
   "outputs": [],
   "source": []
  },
  {
   "cell_type": "code",
   "execution_count": null,
   "id": "8ba11103-a3a8-4593-99de-20c718585569",
   "metadata": {},
   "outputs": [],
   "source": []
  },
  {
   "cell_type": "code",
   "execution_count": null,
   "id": "04b1d000-c002-4921-ab61-4d4d7c68c7cc",
   "metadata": {},
   "outputs": [],
   "source": []
  },
  {
   "cell_type": "code",
   "execution_count": null,
   "id": "1183e290-0e61-4e95-9815-39b36fecbed2",
   "metadata": {},
   "outputs": [],
   "source": []
  },
  {
   "cell_type": "code",
   "execution_count": null,
   "id": "864e9da1-4eef-4f54-94ef-1ac1163007c6",
   "metadata": {},
   "outputs": [],
   "source": []
  },
  {
   "cell_type": "code",
   "execution_count": null,
   "id": "bf93ea90-cfac-4fdb-b488-bdb60e197c6c",
   "metadata": {},
   "outputs": [],
   "source": []
  },
  {
   "cell_type": "code",
   "execution_count": null,
   "id": "72b04eb7-359a-4e11-9992-1c97580d044f",
   "metadata": {},
   "outputs": [],
   "source": []
  },
  {
   "cell_type": "code",
   "execution_count": null,
   "id": "67ae4797-3f3a-4af5-a744-a7a3369ad9de",
   "metadata": {},
   "outputs": [],
   "source": []
  },
  {
   "cell_type": "code",
   "execution_count": null,
   "id": "b9de69fe-d582-41df-91ac-f3b70adc7a7a",
   "metadata": {},
   "outputs": [],
   "source": []
  }
 ],
 "metadata": {
  "kernelspec": {
   "display_name": "Python 3 (ipykernel)",
   "language": "python",
   "name": "python3"
  },
  "language_info": {
   "codemirror_mode": {
    "name": "ipython",
    "version": 3
   },
   "file_extension": ".py",
   "mimetype": "text/x-python",
   "name": "python",
   "nbconvert_exporter": "python",
   "pygments_lexer": "ipython3",
   "version": "3.12.5"
  }
 },
 "nbformat": 4,
 "nbformat_minor": 5
}
