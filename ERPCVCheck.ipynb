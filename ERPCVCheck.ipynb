{
 "cells": [
  {
   "cell_type": "code",
   "execution_count": 2,
   "id": "0304ebdc-eff6-44f1-b943-011dc670fda7",
   "metadata": {},
   "outputs": [],
   "source": [
    "import pandas as pd"
   ]
  },
  {
   "cell_type": "code",
   "execution_count": 3,
   "id": "ce569ad5-8fc6-4d09-aa6e-a9b8a6ab4398",
   "metadata": {},
   "outputs": [],
   "source": [
    "input_file = r'C:\\Users\\prajwal.d1\\Desktop\\Pendency\\CV_GformM\\ERPCV\\ERPCV.csv'"
   ]
  },
  {
   "cell_type": "code",
   "execution_count": null,
   "id": "d1df3ba7-75b3-4a15-aef8-a74183c23323",
   "metadata": {},
   "outputs": [],
   "source": []
  },
  {
   "cell_type": "code",
   "execution_count": null,
   "id": "d4051140-6c58-464e-b6b8-0da96475b0b7",
   "metadata": {},
   "outputs": [],
   "source": []
  },
  {
   "cell_type": "code",
   "execution_count": null,
   "id": "0de79aab-5697-4053-9872-c23e00f5ae4c",
   "metadata": {},
   "outputs": [],
   "source": [
    "output_base = r'C:\\Users\\prajwal.d1\\Desktop\\Pendency\\CV_GformM\\ERPCV_part'\n"
   ]
  },
  {
   "cell_type": "code",
   "execution_count": null,
   "id": "96079e15-b33b-48ff-be65-fffc8a79746b",
   "metadata": {},
   "outputs": [],
   "source": [
    "chunk_size = 1000000  # 1 million rows per chunk"
   ]
  },
  {
   "cell_type": "code",
   "execution_count": null,
   "id": "e4b0deab-7df2-4187-936c-be6836ff91ae",
   "metadata": {},
   "outputs": [],
   "source": [
    "chunk_size = 1000000  # number of rows per chunk (adjust as needed)\n",
    "chunks = pd.read_csv(\"your_file.csv\", chunksize=chunk_size)"
   ]
  }
 ],
 "metadata": {
  "kernelspec": {
   "display_name": "Python 3 (ipykernel)",
   "language": "python",
   "name": "python3"
  },
  "language_info": {
   "codemirror_mode": {
    "name": "ipython",
    "version": 3
   },
   "file_extension": ".py",
   "mimetype": "text/x-python",
   "name": "python",
   "nbconvert_exporter": "python",
   "pygments_lexer": "ipython3",
   "version": "3.12.5"
  }
 },
 "nbformat": 4,
 "nbformat_minor": 5
}
