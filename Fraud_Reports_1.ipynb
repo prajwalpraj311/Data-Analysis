{
 "cells": [
  {
   "cell_type": "markdown",
   "id": "86c1f9e2",
   "metadata": {},
   "source": [
    "# To send personalized table as attachment to ADM vendors"
   ]
  },
  {
   "cell_type": "markdown",
   "id": "264ac171",
   "metadata": {},
   "source": [
    "### SOP for using this notebook to send personalized table from a dump file as attachment to ADM vendors\n",
    "1. Go to https://myaccount.google.com/apppasswords and create new app profile & password associated with your personal flipkart account. Ensure you have 2 step authorization with your flipkart account.\n",
    "2. The password has to be updated in Step 5 along with your email ID\n",
    "3. The updated Vendor list along with their email IDs has to be stored in an .xlsx file locally & the path to the file has to be updated in Step 2.\n",
    "4. The respective vendor files will be processed in a local folder for processing. The folder path has to be updated in Step 4.\n",
    "5. The file has to be executed in the order mentioned in this file from Step 1 to Step 5.\n",
    "6. The file contains paths used during testing. Please update before using."
   ]
  },
  {
   "cell_type": "markdown",
   "id": "267773a3",
   "metadata": {},
   "source": [
    "## 1. Install necessary packages in python"
   ]
  },
  {
   "cell_type": "code",
   "execution_count": 1,
   "id": "f261e258",
   "metadata": {},
   "outputs": [],
   "source": [
    "# Install packages\n",
    "import pandas as pd\n",
    "from matplotlib import pyplot as plt\n",
    "import numpy as np\n",
    "import datetime\n",
    "from datetime import datetime\n",
    "from datetime import timedelta\n",
    "import pandas as pd\n",
    "import seaborn as sns\n",
    "import requests\n",
    "import os\n",
    "from pathlib import Path\n",
    "\n",
    "#for sending mail\n",
    "import smtplib\n",
    "#import imghdr\n",
    "from email.message import EmailMessage\n",
    "from email.mime.multipart import MIMEMultipart\n",
    "from email.mime.text import MIMEText\n",
    "from email.mime.base import MIMEBase\n",
    "from email import encoders\n",
    "import glob"
   ]
  },
  {
   "cell_type": "markdown",
   "id": "4ab21a8a",
   "metadata": {},
   "source": [
    "## 2. Read Vendor names & their email IDs from local excel file"
   ]
  },
  {
   "cell_type": "code",
   "execution_count": 2,
   "id": "e9a61569-f811-4d22-8fce-25306afb3307",
   "metadata": {
    "scrolled": true
   },
   "outputs": [
    {
     "data": {
      "text/html": [
       "<div>\n",
       "<style scoped>\n",
       "    .dataframe tbody tr th:only-of-type {\n",
       "        vertical-align: middle;\n",
       "    }\n",
       "\n",
       "    .dataframe tbody tr th {\n",
       "        vertical-align: top;\n",
       "    }\n",
       "\n",
       "    .dataframe thead th {\n",
       "        text-align: right;\n",
       "    }\n",
       "</style>\n",
       "<table border=\"1\" class=\"dataframe\">\n",
       "  <thead>\n",
       "    <tr style=\"text-align: right;\">\n",
       "      <th></th>\n",
       "      <th>ODH/MDH Name</th>\n",
       "      <th>Type</th>\n",
       "      <th>Vendor Name</th>\n",
       "      <th>Zone</th>\n",
       "      <th>State</th>\n",
       "    </tr>\n",
       "  </thead>\n",
       "  <tbody>\n",
       "    <tr>\n",
       "      <th>0</th>\n",
       "      <td>SASTHURAVOORODH_THO</td>\n",
       "      <td>ODH</td>\n",
       "      <td>SAS</td>\n",
       "      <td>SOUTH</td>\n",
       "      <td>KERALA</td>\n",
       "    </tr>\n",
       "    <tr>\n",
       "      <th>1</th>\n",
       "      <td>RJSCIMPHALODH_IMP</td>\n",
       "      <td>ODH</td>\n",
       "      <td>RJSC</td>\n",
       "      <td>EAST</td>\n",
       "      <td>MANIPUR</td>\n",
       "    </tr>\n",
       "    <tr>\n",
       "      <th>2</th>\n",
       "      <td>IMPHALSPLITMDH_IMP</td>\n",
       "      <td>MDH in Bin</td>\n",
       "      <td>RJSC</td>\n",
       "      <td>EAST</td>\n",
       "      <td>MANIPUR</td>\n",
       "    </tr>\n",
       "    <tr>\n",
       "      <th>3</th>\n",
       "      <td>ELASTICRUNBHAWANIPURODH_KOL</td>\n",
       "      <td>ODH</td>\n",
       "      <td>ELASTICRUN</td>\n",
       "      <td>EAST</td>\n",
       "      <td>WEST BENGAL</td>\n",
       "    </tr>\n",
       "    <tr>\n",
       "      <th>4</th>\n",
       "      <td>CABTGARIAHATODH_KOL</td>\n",
       "      <td>ODH</td>\n",
       "      <td>LOADSHARE</td>\n",
       "      <td>EAST</td>\n",
       "      <td>WEST BENGAL</td>\n",
       "    </tr>\n",
       "    <tr>\n",
       "      <th>...</th>\n",
       "      <td>...</td>\n",
       "      <td>...</td>\n",
       "      <td>...</td>\n",
       "      <td>...</td>\n",
       "      <td>...</td>\n",
       "    </tr>\n",
       "    <tr>\n",
       "      <th>2393</th>\n",
       "      <td>UCCMDH_SHL</td>\n",
       "      <td>MDH</td>\n",
       "      <td>LIGHTWINGS</td>\n",
       "      <td>EAST</td>\n",
       "      <td>MEGHALAYA</td>\n",
       "    </tr>\n",
       "    <tr>\n",
       "      <th>2394</th>\n",
       "      <td>JHALDAHUB_JAA</td>\n",
       "      <td>ODH</td>\n",
       "      <td>LOADSHARE</td>\n",
       "      <td>EAST</td>\n",
       "      <td>WEST BENGAL</td>\n",
       "    </tr>\n",
       "    <tr>\n",
       "      <th>2395</th>\n",
       "      <td>GANGADRAMDH_KDO</td>\n",
       "      <td>MDH</td>\n",
       "      <td>SHADOWFAX</td>\n",
       "      <td>WEST</td>\n",
       "      <td>GUJARAT</td>\n",
       "    </tr>\n",
       "    <tr>\n",
       "      <th>2396</th>\n",
       "      <td>MAWSYNRAMMDH_SHL</td>\n",
       "      <td>MDH</td>\n",
       "      <td>LIGHTWINGS</td>\n",
       "      <td>EAST</td>\n",
       "      <td>MEGHALAYA</td>\n",
       "    </tr>\n",
       "    <tr>\n",
       "      <th>2397</th>\n",
       "      <td>MAWPATMDH_SHL</td>\n",
       "      <td>MDH</td>\n",
       "      <td>LIGHTWINGS</td>\n",
       "      <td>EAST</td>\n",
       "      <td>MEGHALAYA</td>\n",
       "    </tr>\n",
       "  </tbody>\n",
       "</table>\n",
       "<p>2398 rows × 5 columns</p>\n",
       "</div>"
      ],
      "text/plain": [
       "                     ODH/MDH Name        Type Vendor Name   Zone        State\n",
       "0             SASTHURAVOORODH_THO         ODH         SAS  SOUTH       KERALA\n",
       "1               RJSCIMPHALODH_IMP         ODH        RJSC   EAST      MANIPUR\n",
       "2              IMPHALSPLITMDH_IMP  MDH in Bin        RJSC   EAST      MANIPUR\n",
       "3     ELASTICRUNBHAWANIPURODH_KOL         ODH  ELASTICRUN   EAST  WEST BENGAL\n",
       "4             CABTGARIAHATODH_KOL         ODH   LOADSHARE   EAST  WEST BENGAL\n",
       "...                           ...         ...         ...    ...          ...\n",
       "2393                   UCCMDH_SHL         MDH  LIGHTWINGS   EAST    MEGHALAYA\n",
       "2394                JHALDAHUB_JAA         ODH   LOADSHARE   EAST  WEST BENGAL\n",
       "2395              GANGADRAMDH_KDO         MDH   SHADOWFAX   WEST      GUJARAT\n",
       "2396             MAWSYNRAMMDH_SHL         MDH  LIGHTWINGS   EAST    MEGHALAYA\n",
       "2397                MAWPATMDH_SHL         MDH  LIGHTWINGS   EAST    MEGHALAYA\n",
       "\n",
       "[2398 rows x 5 columns]"
      ]
     },
     "execution_count": 2,
     "metadata": {},
     "output_type": "execute_result"
    }
   ],
   "source": [
    "df = pd.read_csv(r'C:\\\\Users\\\\prajwal.d1\\\\Desktop\\\\Pendency\\\\ODH Model pincode Tracker.csv')\n",
    "df1 = df[['ODH/MDH Name','Type','Vendor','Zone','State']]\n",
    "Map = df1.drop_duplicates()\n",
    "Map.rename(columns={'Vendor':'Vendor Name'},inplace=True)\n",
    "Map['Vendor Name'] = Map['Vendor Name'].astype(str).str.upper()\n",
    "Map['ODH/MDH Name'] = Map['ODH/MDH Name'].astype(str).str.upper()\n",
    "Map"
   ]
  },
  {
   "cell_type": "code",
   "execution_count": 4,
   "id": "e25c2978-ae0e-4680-9029-a10930e418ad",
   "metadata": {},
   "outputs": [],
   "source": [
    "# Read each file separately with explicit file paths\n",
    "FkFraud = pd.read_excel(r\"C:\\Users\\prajwal.d1\\Desktop\\Fraud_Data\\FKFraud01A22A.xlsx\", skiprows=2)\n",
    "MPFBF_Fraud = pd.read_excel(r\"C:\\Users\\prajwal.d1\\Desktop\\Fraud_Data\\FKMPFBF01A21A.xlsx\", skiprows=2)\n",
    "SPFFK = pd.read_excel(r\"C:\\Users\\prajwal.d1\\Desktop\\Fraud_Data\\FKSPF1A22A.xlsx\", skiprows=2)\n",
    "Prexo = pd.read_excel(r\"C:\\Users\\prajwal.d1\\Desktop\\Fraud_Data\\Prexo01A19A.xlsx\", skiprows=2)\n",
    "MyntraRVP = pd.read_excel(r'C:\\\\Users\\\\prajwal.d1\\\\Desktop\\\\Fraud_Data\\\\MyntraQ223A.xlsx', engine=\"openpyxl\", sheet_name=\"RVP DATA\")\n",
    "MyntraRTO = pd.read_excel(r'C:\\\\Users\\\\prajwal.d1\\\\Desktop\\\\Fraud_Data\\\\MyntraQ223A.xlsx', engine=\"openpyxl\", sheet_name=\"RTO DATA\")\n",
    "SPFMyntra = pd.read_excel(r\"C:\\Users\\prajwal.d1\\Desktop\\Fraud_Data\\MyntraSPF1M20M.xlsx\") #NM\n",
    "\n"
   ]
  },
  {
   "cell_type": "code",
   "execution_count": 5,
   "id": "a1255449-2698-42f2-aae5-09f381948443",
   "metadata": {},
   "outputs": [
    {
     "data": {
      "text/plain": [
       "Index(['Value (Cr)', 'Source.Name', 'Remarks', 'Final Amount', 'BSM',\n",
       "       'return_amount', 'warehouse_id', 'shipment_id', 'pv_id', 'T/F',\n",
       "       ...\n",
       "       '3PL Flag', 'MH Flag', 'Buck', 'DH', 'Month', 'Asset', 'Week',\n",
       "       'MP Null Flag', 'MP 3PL Flag', 'MP MH Flag'],\n",
       "      dtype='object', length=123)"
      ]
     },
     "execution_count": 5,
     "metadata": {},
     "output_type": "execute_result"
    }
   ],
   "source": [
    "FkFraud.columns"
   ]
  },
  {
   "cell_type": "code",
   "execution_count": 6,
   "id": "e751a80a-e2dd-4367-b2b4-83f0a88d6cea",
   "metadata": {},
   "outputs": [],
   "source": [
    "FkFraud['last_dh_received_name'] = FkFraud['last_dh_received_name'].astype(str).str.upper()\n",
    "MPFBF_Fraud['last_dh_received_name'] = MPFBF_Fraud['last_dh_received_name'].astype(str).str.upper()\n",
    "SPFFK['Final DH Name'] = SPFFK['Final DH Name'].astype(str).str.upper()\n",
    "Prexo['last_dh_received_name'] = Prexo['last_dh_received_name'].astype(str).str.upper()\n",
    "MyntraRVP['Hub Name'] = MyntraRVP['Hub Name'].astype(str).str.upper()\n",
    "MyntraRTO['Hub Name '] = MyntraRTO['Hub Name '].astype(str).str.upper()\n",
    "SPFMyntra ['ek_hub'] = SPFMyntra['ek_hub'].astype(str).str.upper()\n",
    "\n"
   ]
  },
  {
   "cell_type": "code",
   "execution_count": 7,
   "id": "c0ed19d7",
   "metadata": {
    "scrolled": true
   },
   "outputs": [],
   "source": [
    "FkFraud = pd.merge(FkFraud, Map[['ODH/MDH Name','Vendor Name']], how='left', left_on = 'last_dh_received_name', right_on = 'ODH/MDH Name')\n",
    "FkFraud = FkFraud.drop_duplicates()\n",
    "FkFraud.drop(columns = ['ODH/MDH Name'],inplace = True)\n",
    "\n",
    "MPFBF_Fraud = pd.merge(MPFBF_Fraud, Map[['ODH/MDH Name','Vendor Name']], how='left', left_on = 'last_dh_received_name', right_on = 'ODH/MDH Name')\n",
    "MPFBF_Fraud=MPFBF_Fraud.drop_duplicates()\n",
    "MPFBF_Fraud.drop(columns = ['ODH/MDH Name'],inplace = True)\n",
    "\n",
    "SPFFK = pd.merge(SPFFK, Map[['ODH/MDH Name','Vendor Name']], how='left', left_on = 'Final DH Name', right_on = 'ODH/MDH Name')\n",
    "SPFFK=SPFFK.drop_duplicates()\n",
    "SPFFK.drop(columns = ['ODH/MDH Name'],inplace = True)\n",
    "\n",
    "Prexo = pd.merge(Prexo, Map[['ODH/MDH Name','Vendor Name']], how='left', left_on = 'last_dh_received_name', right_on = 'ODH/MDH Name')\n",
    "Prexo=Prexo.drop_duplicates()\n",
    "Prexo.drop(columns = ['ODH/MDH Name'],inplace = True)\n",
    "\n",
    "MyntraRVP = pd.merge(MyntraRVP, Map[['ODH/MDH Name','Vendor Name']], how='left', left_on = 'Hub Name', right_on = 'ODH/MDH Name')\n",
    "MyntraRVP = MyntraRVP.drop_duplicates()\n",
    "MyntraRVP.drop(columns = ['ODH/MDH Name'],inplace = True)\n",
    "\n",
    "MyntraRTO = pd.merge(MyntraRTO, Map[['ODH/MDH Name','Vendor Name']], how='left', left_on = 'Hub Name ', right_on = 'ODH/MDH Name')\n",
    "MyntraRTO = MyntraRTO.drop_duplicates()\n",
    "MyntraRTO.drop(columns = ['ODH/MDH Name'],inplace = True)\n",
    "\n",
    "\n",
    "\n",
    "\n"
   ]
  },
  {
   "cell_type": "code",
   "execution_count": 8,
   "id": "c9ebcd92",
   "metadata": {},
   "outputs": [],
   "source": [
    "# Reading a database of vendors & email ids\n",
    "VendorContact = pd.read_excel(r'C:\\\\Users\\\\prajwal.d1\\\\Desktop\\\\Pendency\\\\Vendor_Mail.xlsx', dtype=str)"
   ]
  },
  {
   "cell_type": "code",
   "execution_count": 9,
   "id": "08790018",
   "metadata": {},
   "outputs": [],
   "source": [
    "VendorNames = VendorContact[\"Vendor Name\"].tolist()\n",
    "VendorMail = VendorContact[\"Vendor Mail\"].tolist()"
   ]
  },
  {
   "cell_type": "markdown",
   "id": "341b09b9",
   "metadata": {},
   "source": [
    "## 3. Creating file directory & clear old data"
   ]
  },
  {
   "cell_type": "code",
   "execution_count": 10,
   "id": "a961e194",
   "metadata": {},
   "outputs": [],
   "source": [
    "# Create a folder and update path here\n",
    "DownloadPath = \"C:\\\\Users\\\\prajwal.d1\\\\Desktop\\\\Fraud_Data\\\\Fraud_Reports_Files\""
   ]
  },
  {
   "cell_type": "code",
   "execution_count": 11,
   "id": "60c7a795",
   "metadata": {},
   "outputs": [],
   "source": [
    "# Remove all files in the specified folder\n",
    "os.chdir(f\"{DownloadPath}\")\n",
    "all_files = os.listdir()\n",
    "\n",
    "for f in all_files:\n",
    "    os.remove(f)"
   ]
  },
  {
   "cell_type": "markdown",
   "id": "248a1a31",
   "metadata": {},
   "source": [
    "## 4. Processing data for respective vendors"
   ]
  },
  {
   "cell_type": "code",
   "execution_count": 12,
   "id": "502d4ad9",
   "metadata": {},
   "outputs": [],
   "source": [
    "# Create separate files for vendors\n",
    "attachment_filename_fwd = []\n",
    "\n",
    "for x in range(len(VendorNames)):\n",
    "    VendorData_FkFraud = FkFraud.loc[FkFraud['Vendor Name'] == VendorNames[x]]\n",
    "    VendorData_MPFBF_Fraud = MPFBF_Fraud.loc[MPFBF_Fraud['Vendor Name'] == VendorNames[x]]\n",
    "    VendorData_SPFFK = SPFFK.loc[SPFFK['Vendor Name'] == VendorNames[x]]\n",
    "    VendorData_Prexo = Prexo.loc[Prexo['Vendor Name'] == VendorNames[x]]\n",
    "    VendorData_MyntraRVP = MyntraRVP.loc[MyntraRVP['Vendor Name'] == VendorNames[x]]\n",
    "    VendorData_MyntraRTO = MyntraRTO.loc[MyntraRTO['Vendor Name'] == VendorNames[x]]\n",
    "    VendorData_SPFMyntra = SPFMyntra.loc[SPFMyntra['Vendor Name'] == VendorNames[x]]\n",
    "\n",
    "    filename=VendorNames[x]+\"_Fraud_Reports.xlsx\"\n",
    "    with pd.ExcelWriter(filename) as writer:\n",
    "        VendorData_FkFraud.to_excel(writer, sheet_name='FK_Fraud_Final_1A22A',index=False)\n",
    "        VendorData_MPFBF_Fraud.to_excel(writer, sheet_name='FKMPFBF_Final_1A21A',index=False)\n",
    "        VendorData_SPFFK.to_excel(writer, sheet_name='SPFFK_Final_1A22A',index=False)\n",
    "        VendorData_Prexo.to_excel(writer, sheet_name='Prexo_Final_01A19A',index=False)\n",
    "        VendorData_MyntraRVP.to_excel(writer, sheet_name='MyntraRVP_Final_1A23A',index=False)\n",
    "        VendorData_MyntraRTO.to_excel(writer, sheet_name='MyntraRTO_Final_1A23A',index=False)\n",
    "        VendorData_SPFMyntra.to_excel(writer, sheet_name='SPF_Myntra_1M20M',index=False)\n",
    "        \n",
    "    attachment_filename_fwd.append(VendorNames[x]+\"_Fraud_Reports.xlsx\")\n"
   ]
  },
  {
   "cell_type": "markdown",
   "id": "173fed12",
   "metadata": {},
   "source": [
    "## 5. Send E-mail to vendor with their respective attachment"
   ]
  },
  {
   "cell_type": "code",
   "execution_count": 13,
   "id": "c5ab535f",
   "metadata": {},
   "outputs": [],
   "source": [
    "# Enter credentials of your account\n",
    "EMAIL_ADDRESS = 'prajwal.d1@flipkart.com'\n",
    "EMAIL_PASSWORD = 'ynvfvcvolkotfwbr'"
   ]
  },
  {
   "cell_type": "code",
   "execution_count": 14,
   "id": "1416aedb-3ad7-4255-86b1-b6aaca26ac49",
   "metadata": {},
   "outputs": [],
   "source": [
    "for y in range(len(VendorNames)):\n",
    "    msg = EmailMessage()\n",
    "    msg['Subject'] = \"Fraud Reports – 23 April'25 Part-1 \"+VendorNames[y]\n",
    "    msg['From'] = EMAIL_ADDRESS\n",
    "    msg['To'] = VendorMail[y]\n",
    "    msg.set_content(\"\"\"Dear Partner,\n",
    "\n",
    "    Do find attached the various Fraud Data / OBD-CV Adh reports along with timelines for your reference. \n",
    "    Kindly review the details below and take necessary actions:\n",
    "    \n",
    "    1. FK Fraud:\n",
    "    \n",
    "   - Fraud cases under ₹2K have increased. \n",
    "     Please review the data at an OFD and Wishmaster level and share the RCA for these incidents.  \n",
    "\n",
    "\n",
    "    2. Myntra Q2 RVP & RTO:\n",
    "    \n",
    "  -  There is a rise in cases of used products and missing brand tags. \n",
    "     Ensure Wishmasters (WMs) and Team Leads (TLs) are sensitized on this, and SmartChecks are strictly followed before picking up shipments.  \n",
    "     \n",
    "\n",
    "    3. Prexo:  \n",
    "    \n",
    "   - A high number of brand mismatches and fake mobile shipments are being picked up without processing through Yaantra. \n",
    "     TLs and WMs must adhere to Yaantra SmartChecks to prevent such issues.  \n",
    "\n",
    "\n",
    "    4. SPF-FK & Myntra Q2:\n",
    "    \n",
    "   - A significant number of incorrect pickups are being done by WMs, and TLs are also not ensuring adherence to SmartChecks. \n",
    "     Immediate audits of pickups must be conducted.  \n",
    "     \n",
    "\n",
    "    5. MPFBF:\n",
    "    \n",
    "   - There is an increasing trend of wrong and fake pickups. \n",
    "     Please review TID-level data for high-value cases and take necessary measures.  \n",
    "     \n",
    "\n",
    "  \n",
    "\n",
    "      Actionable Points:\n",
    "          - Review the fraud reports and share your findings.  \n",
    "          - Work on improving CV and OBD Non Adh at the Hub/FE level.\n",
    "          \n",
    "         \n",
    "- NOTE: Issue warning letters to WMs where non-adherence is found in more than five shipments. Continued non-adherence will result in blacklisting from the system.  \n",
    "    \n",
    "Thanks & Regards,\n",
    "Prajwal | \n",
    "7975770738\"\"\")\n",
    "    attachment_filename_fwd=(VendorContact.loc[VendorContact['Vendor Name'] == VendorNames[y],\"Vendor Name\"]+\"_Fraud_Reports.xlsx\").tolist()\n",
    "    files1=[attachment_filename_fwd[0]]\n",
    "    for file in files1:\n",
    "        with open(file,'rb') as f:\n",
    "            file_data1 = f.read()\n",
    "            file_name1 = f.name\n",
    "        msg.add_attachment(file_data1, maintype='application', subtype='octet-stream', filename=file_name1)\n",
    "    #PDF=Temp.loc[Temp['File']=='Gate_pass_Format.pdf',\"File\"].tolist()\n",
    "    #files2 =[PDF[0]]\n",
    "    #for file in files2:\n",
    "     #   with open(file,'rb') as f:\n",
    "      #      file_data2 = f.read()\n",
    "       #     file_name2 = f.name\n",
    "        #msg.add_attachment(file_data2, maintype='application', subtype='octet-stream', filename=file_name2)\n",
    "    # with smtplib.SMTP('smtp.gmail.com', 587, timeout=30) as smtp:\n",
    "     # smtplib.SMTP('smtp.gmail.com', 587, timeout=60) as smtp:\n",
    "    with smtplib.SMTP_SSL('smtp.gmail.com', 465) as smtp: \n",
    "        smtp.login(EMAIL_ADDRESS,EMAIL_PASSWORD)\n",
    "        smtp.send_message(msg)    "
   ]
  },
  {
   "cell_type": "code",
   "execution_count": 15,
   "id": "9bf3be18",
   "metadata": {},
   "outputs": [],
   "source": [
    "#FwdDump.head()"
   ]
  },
  {
   "cell_type": "code",
   "execution_count": null,
   "id": "0a5e1ab2",
   "metadata": {},
   "outputs": [],
   "source": [
    "# Remove all files in the specified folder\n",
    "os.chdir(f\"{DownloadPath}\")\n",
    "all_files = os.listdir()\n",
    "os.getcwd()"
   ]
  },
  {
   "cell_type": "code",
   "execution_count": null,
   "id": "ae9f7832",
   "metadata": {},
   "outputs": [],
   "source": [
    "(VendorContact.loc[VendorContact['Vendor Name'] == VendorNames[y],\"Vendor Name\"]+\"_RTO_RVP_UT_28.xlsx\")"
   ]
  },
  {
   "cell_type": "code",
   "execution_count": null,
   "id": "6579a584-016f-4551-beee-947a52597847",
   "metadata": {},
   "outputs": [],
   "source": [
    "#   10. Relabeling Data : 1st Feb'25 to 03rd Feb'25\n",
    "#       * There is a growing trend where fraudulent transactions are being relabeled as legitimate, which can significantly affect the accuracy of our fraud detection models.\n",
    "#\n",
    "#   11. Externalization Fraud loss - 1stJan'25 to 28thJan'25  \n",
    "#       * There is High trend of DNU fraud is Externalization - Pl go through the TIDs and take action on WM Marking Undeli\n",
    "#\n",
    "#10. Externalization Fraud loss - 1stDec'24 to 31stDec'24  \n",
    "#       * There is High trend of DNU fraud is Externalization - Pl go through the TIDs and take action on WM Marking Undel\n",
    "#11. Externalization Fraud loss - 1stJan'25 to 07thJan'25  \n",
    "#       * There is High trend of DNU fraud is Externalization - Pl go through the TIDs and take action on WM Marking Undel\n"
   ]
  },
  {
   "cell_type": "code",
   "execution_count": null,
   "id": "01e9ab5a-5436-45b6-84d0-97578bb84798",
   "metadata": {},
   "outputs": [],
   "source": []
  },
  {
   "cell_type": "code",
   "execution_count": null,
   "id": "63aa2bc1-7219-4f00-bf14-a5161eac3d69",
   "metadata": {},
   "outputs": [],
   "source": []
  },
  {
   "cell_type": "code",
   "execution_count": null,
   "id": "a0d79aa1-6ae0-4bbc-ab1b-c158e9a1d081",
   "metadata": {},
   "outputs": [],
   "source": []
  },
  {
   "cell_type": "code",
   "execution_count": null,
   "id": "bb3eaca2-c2dd-4e6e-8e43-ced8c6ffb845",
   "metadata": {},
   "outputs": [],
   "source": []
  },
  {
   "cell_type": "code",
   "execution_count": null,
   "id": "9aad4e62-ed1e-49f7-8af4-78541330527b",
   "metadata": {},
   "outputs": [],
   "source": []
  },
  {
   "cell_type": "code",
   "execution_count": null,
   "id": "760819b8-f7a7-46a3-82b7-d7a7cdbdf3d2",
   "metadata": {},
   "outputs": [],
   "source": []
  },
  {
   "cell_type": "code",
   "execution_count": null,
   "id": "04f70b0f-b6f7-4f1a-9084-83e515422254",
   "metadata": {},
   "outputs": [],
   "source": []
  },
  {
   "cell_type": "code",
   "execution_count": null,
   "id": "4370c4d8-d470-4112-96ea-4138d7efc496",
   "metadata": {},
   "outputs": [],
   "source": []
  },
  {
   "cell_type": "code",
   "execution_count": null,
   "id": "67c4bc28-70fb-4053-a757-dc424232b375",
   "metadata": {},
   "outputs": [],
   "source": []
  },
  {
   "cell_type": "code",
   "execution_count": null,
   "id": "7d09bd73-2f32-4dd9-89ba-432ac926cc0d",
   "metadata": {},
   "outputs": [],
   "source": []
  },
  {
   "cell_type": "code",
   "execution_count": null,
   "id": "6ccc0084-ea5b-41d4-ab8b-fabe115daf02",
   "metadata": {},
   "outputs": [],
   "source": []
  },
  {
   "cell_type": "code",
   "execution_count": null,
   "id": "bc0a256a-27ed-42a2-b4d6-47f6125a4093",
   "metadata": {},
   "outputs": [],
   "source": []
  },
  {
   "cell_type": "code",
   "execution_count": null,
   "id": "8ba11103-a3a8-4593-99de-20c718585569",
   "metadata": {},
   "outputs": [],
   "source": []
  },
  {
   "cell_type": "code",
   "execution_count": null,
   "id": "04b1d000-c002-4921-ab61-4d4d7c68c7cc",
   "metadata": {},
   "outputs": [],
   "source": []
  },
  {
   "cell_type": "code",
   "execution_count": null,
   "id": "1183e290-0e61-4e95-9815-39b36fecbed2",
   "metadata": {},
   "outputs": [],
   "source": []
  },
  {
   "cell_type": "code",
   "execution_count": null,
   "id": "864e9da1-4eef-4f54-94ef-1ac1163007c6",
   "metadata": {},
   "outputs": [],
   "source": []
  },
  {
   "cell_type": "code",
   "execution_count": null,
   "id": "bf93ea90-cfac-4fdb-b488-bdb60e197c6c",
   "metadata": {},
   "outputs": [],
   "source": []
  },
  {
   "cell_type": "code",
   "execution_count": null,
   "id": "72b04eb7-359a-4e11-9992-1c97580d044f",
   "metadata": {},
   "outputs": [],
   "source": []
  },
  {
   "cell_type": "code",
   "execution_count": null,
   "id": "67ae4797-3f3a-4af5-a744-a7a3369ad9de",
   "metadata": {},
   "outputs": [],
   "source": []
  },
  {
   "cell_type": "code",
   "execution_count": null,
   "id": "b9de69fe-d582-41df-91ac-f3b70adc7a7a",
   "metadata": {},
   "outputs": [],
   "source": []
  }
 ],
 "metadata": {
  "kernelspec": {
   "display_name": "Python 3 (ipykernel)",
   "language": "python",
   "name": "python3"
  },
  "language_info": {
   "codemirror_mode": {
    "name": "ipython",
    "version": 3
   },
   "file_extension": ".py",
   "mimetype": "text/x-python",
   "name": "python",
   "nbconvert_exporter": "python",
   "pygments_lexer": "ipython3",
   "version": "3.12.5"
  }
 },
 "nbformat": 4,
 "nbformat_minor": 5
}
