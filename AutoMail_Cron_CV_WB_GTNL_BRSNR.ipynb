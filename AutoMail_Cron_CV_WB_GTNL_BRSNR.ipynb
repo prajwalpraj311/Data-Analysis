{
 "cells": [
  {
   "cell_type": "markdown",
   "id": "86c1f9e2",
   "metadata": {},
   "source": [
    "# To send personalized table as attachment to ADM vendors"
   ]
  },
  {
   "cell_type": "markdown",
   "id": "264ac171",
   "metadata": {
    "jp-MarkdownHeadingCollapsed": true
   },
   "source": [
    "### SOP for using this notebook to send personalized table from a dump file as attachment to ADM vendors\n",
    "1. Go to https://myaccount.google.com/apppasswords and create new app profile & password associated with your personal flipkart account. Ensure you have 2 step authorization with your flipkart account.\n",
    "2. The password has to be updated in Step 5 along with your email ID\n",
    "3. The updated Vendor list along with their email IDs has to be stored in an .xlsx file locally & the path to the file has to be updated in Step 2.\n",
    "4. The respective vendor files will be processed in a local folder for processing. The folder path has to be updated in Step 4.\n",
    "5. The file has to be executed in the order mentioned in this file from Step 1 to Step 5.\n",
    "6. The file contains paths used during testing. Please update before using."
   ]
  },
  {
   "cell_type": "markdown",
   "id": "267773a3",
   "metadata": {},
   "source": [
    "## 1. Install necessary packages in python"
   ]
  },
  {
   "cell_type": "code",
   "execution_count": 1,
   "id": "f261e258",
   "metadata": {},
   "outputs": [
    {
     "name": "stderr",
     "output_type": "stream",
     "text": [
      "C:\\Users\\prajwal.d1\\AppData\\Local\\Temp\\ipykernel_9660\\1044736199.py:16: DeprecationWarning: 'imghdr' is deprecated and slated for removal in Python 3.13\n",
      "  import imghdr\n"
     ]
    }
   ],
   "source": [
    "# Install packages\n",
    "import pandas as pd\n",
    "from matplotlib import pyplot as plt\n",
    "import numpy as np\n",
    "import datetime\n",
    "from datetime import datetime\n",
    "from datetime import timedelta\n",
    "import pandas as pd\n",
    "import seaborn as sns\n",
    "import requests\n",
    "import os\n",
    "from pathlib import Path\n",
    "\n",
    "#for sending mail\n",
    "import smtplib\n",
    "import imghdr\n",
    "from email.message import EmailMessage\n",
    "from email.mime.multipart import MIMEMultipart\n",
    "from email.mime.text import MIMEText\n",
    "from email.mime.base import MIMEBase\n",
    "from email import encoders\n",
    "import glob"
   ]
  },
  {
   "cell_type": "markdown",
   "id": "4ab21a8a",
   "metadata": {},
   "source": [
    "## 2. Read Vendor names & their email IDs from local excel file"
   ]
  },
  {
   "cell_type": "code",
   "execution_count": 3,
   "id": "c0ed19d7",
   "metadata": {},
   "outputs": [],
   "source": [
    "# Reading a BGV dump database\n",
    "Cron_Data = pd.read_excel(r'C:\\\\Users\\\\prajwal.d1\\\\Desktop\\\\Pendency\\\\Cron_Data_23A.xlsx', dtype=str)\n",
    "CV_Data = pd.read_excel(r'C:\\\\Users\\\\prajwal.d1\\\\Desktop\\\\Pendency\\\\CVW1422A.xlsx', dtype=str)\n",
    "White_Bags2 = pd.read_excel(r'C:\\\\Users\\\\prajwal.d1\\\\Desktop\\\\Pendency\\\\WBP1A20A.xlsx', dtype=str)\n",
    "ItTool2 = pd.read_excel(r'C:\\\\Users\\\\prajwal.d1\\\\Desktop\\\\Pendency\\\\WBIT1A22A.xlsx', dtype=str)\n",
    "# GTNL= pd.read_excel(r'C:\\\\Users\\\\prajwal.d1\\\\Desktop\\\\Pendency\\\\gtnl_pendency17Apr.xlsx', dtype=str)\n",
    "GTNL= pd.read_excel(r'C:\\\\Users\\\\prajwal.d1\\\\Desktop\\\\Pendency\\\\gtnl_pendency20Apr.xlsx', engine=\"openpyxl\", sheet_name=\"Sheet1\")\n",
    "GTNLCV = pd.read_excel(r'C:\\\\Users\\\\prajwal.d1\\\\Desktop\\\\Pendency\\\\GTNLCV11A17A.xlsx', dtype=str)\n",
    "BRSNR = pd.read_excel(r'C:\\\\Users\\\\prajwal.d1\\\\Desktop\\\\Pendency\\\\BRSNR_SFR.xlsx', dtype=str)\n"
   ]
  },
  {
   "cell_type": "code",
   "execution_count": 4,
   "id": "c9ebcd92",
   "metadata": {},
   "outputs": [],
   "source": [
    "# Reading a database of vendors & email ids\n",
    "VendorContact = pd.read_excel(r'C:\\\\Users\\\\prajwal.d1\\\\Desktop\\\\Pendency\\\\Vendor_Mail.xlsx', dtype=str)"
   ]
  },
  {
   "cell_type": "code",
   "execution_count": 5,
   "id": "08790018",
   "metadata": {},
   "outputs": [],
   "source": [
    "VendorNames = VendorContact[\"Vendor Name\"].tolist()\n",
    "VendorMail = VendorContact[\"Vendor Mail\"].tolist()"
   ]
  },
  {
   "cell_type": "markdown",
   "id": "341b09b9",
   "metadata": {},
   "source": [
    "## 3. Creating file directory & clear old data"
   ]
  },
  {
   "cell_type": "code",
   "execution_count": 6,
   "id": "a961e194",
   "metadata": {},
   "outputs": [],
   "source": [
    "# Create a folder and update path here\n",
    "DownloadPath = \"C:\\\\Users\\\\prajwal.d1\\\\Desktop\\\\Pendency\\\\Pendency_All\""
   ]
  },
  {
   "cell_type": "code",
   "execution_count": 7,
   "id": "60c7a795",
   "metadata": {},
   "outputs": [],
   "source": [
    "# Remove all files in the specified folder\n",
    "os.chdir(f\"{DownloadPath}\")\n",
    "all_files = os.listdir()\n",
    "\n",
    "for f in all_files:\n",
    "    os.remove(f)"
   ]
  },
  {
   "cell_type": "markdown",
   "id": "248a1a31",
   "metadata": {},
   "source": [
    "## 4. Processing data for respective vendors"
   ]
  },
  {
   "cell_type": "code",
   "execution_count": 8,
   "id": "502d4ad9",
   "metadata": {},
   "outputs": [],
   "source": [
    "# Create separate files for vendors\n",
    "attachment_filename_fwd = []\n",
    "\n",
    "for x in range(len(VendorNames)):\n",
    "    VendorData_Cron_Data = Cron_Data.loc[Cron_Data['Vendor Name'] == VendorNames[x]]\n",
    "    VendorData_CV_Data = CV_Data.loc[CV_Data['Vendor Name'] == VendorNames[x]]\n",
    "    VendorData_White_Bags2 = White_Bags2.loc[White_Bags2['Vendor Name'] == VendorNames[x]]\n",
    "    VendorData_ItTool2 = ItTool2.loc[ItTool2['Vendor Name'] == VendorNames[x]]\n",
    "    VendorData_GTNL = GTNL.loc[GTNL['Vendor Name'] == VendorNames[x]]\n",
    "    VendorData_GTNLCV = GTNLCV.loc[GTNLCV['Vendor Name'] == VendorNames[x]]\n",
    "    VendorData_BRSNR = BRSNR.loc[BRSNR['Vendor Name'] == VendorNames[x]]\n",
    "    \n",
    "    filename=VendorNames[x]+\"_Pendency.xlsx\"\n",
    "    with pd.ExcelWriter(filename) as writer:\n",
    "        VendorData_Cron_Data.to_excel(writer, sheet_name='Pendency_23A',index=False)\n",
    "        VendorData_CV_Data.to_excel(writer, sheet_name='CV_Data_23A',index=False)\n",
    "        VendorData_White_Bags2.to_excel(writer, sheet_name='White_Bag_Final_01A20A',index=False)\n",
    "        VendorData_ItTool2.to_excel(writer, sheet_name='White_Bag_ITTool_1A21A',index=False)\n",
    "        VendorData_GTNL.to_excel(writer, sheet_name='GTNL_Pendency_20A',index=False)\n",
    "        VendorData_GTNLCV.to_excel(writer, sheet_name='GTNL_CV_11A17A',index=False)\n",
    "        VendorData_BRSNR.to_excel(writer, sheet_name='BRSNR_21A',index=False)\n",
    "        \n",
    "    attachment_filename_fwd.append(VendorNames[x]+\"_Pendency.xlsx\")\n"
   ]
  },
  {
   "cell_type": "markdown",
   "id": "173fed12",
   "metadata": {},
   "source": [
    "## 5. Send E-mail to vendor with their respective attachment"
   ]
  },
  {
   "cell_type": "code",
   "execution_count": 9,
   "id": "c5ab535f",
   "metadata": {},
   "outputs": [],
   "source": [
    "# Enter credentials of your account\n",
    "EMAIL_ADDRESS = 'prajwal.d1@flipkart.com'\n",
    "EMAIL_PASSWORD = 'hhdmhzadvxnbhqax'"
   ]
  },
  {
   "cell_type": "code",
   "execution_count": 10,
   "id": "129f4683",
   "metadata": {},
   "outputs": [],
   "source": [
    "for y in range(len(VendorNames)):\n",
    "    msg = EmailMessage()\n",
    "    msg['Subject'] = \"RTO_RVP | CV | White Bags | GTNL | BRSNR- 23 April'25 - \"+VendorNames[y]\n",
    "    msg['From'] = EMAIL_ADDRESS\n",
    "    msg['To'] = VendorMail[y]\n",
    "    msg.set_content(\"\"\"Dear Partner,\n",
    "\n",
    "       Please find the latest data updates below:\n",
    "\n",
    "  -> RTO/RVP \n",
    "    \n",
    "        -> Ensure that all shipments pending for more than 3 days are cleared by EOD.\n",
    "        -> For shipments pending for over 7 days, kindly provide a Root Cause Analysis (RCA) without fail.\n",
    "\n",
    "  -> CV Adherence Update\n",
    "\n",
    "           Please ensure the CV is updated as per the SOP:\n",
    "              -> For Flipkart: CV should be done for values greater than 2,000.\n",
    "              -> For Myntra: CV should be done for values greater than 500.\n",
    "\n",
    "     ERP CV is not being considered in today's data due to a technical issue.\n",
    "         \n",
    "   -> White_Bags\n",
    "   \n",
    "         - The latest CL MH White Bag delta data has been attached.\n",
    "         - Please instruct the hub team and ground team to connect the white bags through the IT tool.\n",
    "         - IT tool responses are also attached for visibility.\n",
    "         - Please prioritize these action items and update accordingly.\n",
    "\n",
    "   -> GTNL Pendency Data.\n",
    "\n",
    "        - Do go through the data & Kindly Clear the >3 days pendency for avoiding further DN.\n",
    "\n",
    "   -> BRSNR Pendency Data.\n",
    "\n",
    "        - BRSNR numbers are rising. Please clear pending cases.\n",
    "          Ensure all ODHs update the G-Form within TAT to avoid recovery via debit note. \n",
    "          Final conclusions will be per FK Zonal, BRM, and Quality remarks.\n",
    "\n",
    "                      \n",
    "                      \n",
    "   Please prioritize these action items and update accordingly.\n",
    "\n",
    "     Thanks & Regards,\n",
    "     Prajwal D\"\"\")\n",
    "    attachment_filename_fwd=(VendorContact.loc[VendorContact['Vendor Name'] == VendorNames[y],\"Vendor Name\"]+\"_Pendency.xlsx\").tolist()\n",
    "    files1=[attachment_filename_fwd[0]]\n",
    "    for file in files1:\n",
    "        with open(file,'rb') as f:\n",
    "            file_data1 = f.read()\n",
    "            file_name1 = f.name\n",
    "        msg.add_attachment(file_data1, maintype='application', subtype='octet-stream', filename=file_name1)\n",
    "    #PDF=Temp.loc[Temp['File']=='Gate_pass_Format.pdf',\"File\"].tolist()\n",
    "    #files2 =[PDF[0]]\n",
    "    #for file in files2:\n",
    "     #   with open(file,'rb') as f:\n",
    "      #      file_data2 = f.read()\n",
    "       #     file_name2 = f.name\n",
    "        #msg.add_attachment(file_data2, maintype='application', subtype='octet-stream', filename=file_name2)\n",
    "    with smtplib.SMTP_SSL('smtp.gmail.com', 465) as smtp: \n",
    "        smtp.login(EMAIL_ADDRESS,EMAIL_PASSWORD)\n",
    "        smtp.send_message(msg)    "
   ]
  },
  {
   "cell_type": "code",
   "execution_count": 11,
   "id": "9bf3be18",
   "metadata": {},
   "outputs": [
    {
     "ename": "NameError",
     "evalue": "name 'FwdDump' is not defined",
     "output_type": "error",
     "traceback": [
      "\u001b[1;31m---------------------------------------------------------------------------\u001b[0m",
      "\u001b[1;31mNameError\u001b[0m                                 Traceback (most recent call last)",
      "Cell \u001b[1;32mIn[11], line 1\u001b[0m\n\u001b[1;32m----> 1\u001b[0m \u001b[43mFwdDump\u001b[49m\u001b[38;5;241m.\u001b[39mhead()\n",
      "\u001b[1;31mNameError\u001b[0m: name 'FwdDump' is not defined"
     ]
    }
   ],
   "source": [
    "FwdDump.head()"
   ]
  },
  {
   "cell_type": "code",
   "execution_count": null,
   "id": "0a5e1ab2",
   "metadata": {},
   "outputs": [],
   "source": [
    "# Remove all files in the specified folder\n",
    "os.chdir(f\"{DownloadPath}\")\n",
    "all_files = os.listdir()\n",
    "os.getcwd()"
   ]
  },
  {
   "cell_type": "code",
   "execution_count": null,
   "id": "ae9f7832",
   "metadata": {},
   "outputs": [],
   "source": [
    "(VendorContact.loc[VendorContact['Vendor Name'] == VendorNames[y],\"Vendor Name\"]+\"_RTO_RVP_UT_28.xlsx\")"
   ]
  },
  {
   "cell_type": "code",
   "execution_count": null,
   "id": "27a7b595-a571-4e78-a952-c7b129aa58d4",
   "metadata": {},
   "outputs": [],
   "source": []
  },
  {
   "cell_type": "code",
   "execution_count": null,
   "id": "352e2118-3d85-4b65-87b8-7a5e241ad6d2",
   "metadata": {},
   "outputs": [],
   "source": []
  },
  {
   "cell_type": "code",
   "execution_count": null,
   "id": "231aec88-bc25-48c3-9cc2-feb21b27a7fc",
   "metadata": {},
   "outputs": [],
   "source": []
  },
  {
   "cell_type": "code",
   "execution_count": null,
   "id": "00ef1f8e-e13c-46e2-af1a-ffa41f520a70",
   "metadata": {},
   "outputs": [],
   "source": []
  },
  {
   "cell_type": "code",
   "execution_count": null,
   "id": "fed03c82-9784-455b-b77e-7559fe93fc3d",
   "metadata": {},
   "outputs": [],
   "source": []
  },
  {
   "cell_type": "code",
   "execution_count": null,
   "id": "77c82262-a762-4151-9e84-bfbf56d65c1a",
   "metadata": {},
   "outputs": [],
   "source": []
  },
  {
   "cell_type": "code",
   "execution_count": null,
   "id": "58599ed2-fa17-4327-9930-861cec42e567",
   "metadata": {},
   "outputs": [],
   "source": []
  },
  {
   "cell_type": "code",
   "execution_count": null,
   "id": "da69f364-399f-405e-8f6a-7110a2cfc827",
   "metadata": {},
   "outputs": [],
   "source": []
  },
  {
   "cell_type": "code",
   "execution_count": null,
   "id": "24178a62-639d-4a89-8242-e929bc2143e8",
   "metadata": {},
   "outputs": [],
   "source": []
  },
  {
   "cell_type": "code",
   "execution_count": null,
   "id": "30d2b78c-54ee-4788-8ae5-9cdffad9dcb5",
   "metadata": {},
   "outputs": [],
   "source": []
  },
  {
   "cell_type": "code",
   "execution_count": null,
   "id": "a002f1fe-9272-418e-b0a9-8ecdacbcde1b",
   "metadata": {},
   "outputs": [],
   "source": []
  },
  {
   "cell_type": "code",
   "execution_count": null,
   "id": "6a36dcd0-77f2-48d1-a22c-6831c7cf25f0",
   "metadata": {},
   "outputs": [],
   "source": []
  },
  {
   "cell_type": "code",
   "execution_count": null,
   "id": "4f988a84-ee26-4c30-a7cf-317ba62643f7",
   "metadata": {},
   "outputs": [],
   "source": []
  }
 ],
 "metadata": {
  "kernelspec": {
   "display_name": "Python 3 (ipykernel)",
   "language": "python",
   "name": "python3"
  },
  "language_info": {
   "codemirror_mode": {
    "name": "ipython",
    "version": 3
   },
   "file_extension": ".py",
   "mimetype": "text/x-python",
   "name": "python",
   "nbconvert_exporter": "python",
   "pygments_lexer": "ipython3",
   "version": "3.12.5"
  }
 },
 "nbformat": 4,
 "nbformat_minor": 5
}
